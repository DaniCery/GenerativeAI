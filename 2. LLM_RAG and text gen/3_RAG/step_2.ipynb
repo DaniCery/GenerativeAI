{
 "cells": [
  {
   "cell_type": "markdown",
   "id": "32a86128",
   "metadata": {},
   "source": [
    "# Step 2: Finding Relevant Data"
   ]
  },
  {
   "cell_type": "markdown",
   "id": "6e411bad",
   "metadata": {},
   "source": [
    "Add your API key to the cell below then run it."
   ]
  },
  {
   "cell_type": "code",
   "execution_count": 1,
   "id": "bda6008b",
   "metadata": {},
   "outputs": [],
   "source": [
    "import openai\n",
    "openai.api_base = \"https://openai.vocareum.com/v1\"\n",
    "openai.api_key = \"voc-32034342212667733781206696e1b8b3b604.60383220\""
   ]
  },
  {
   "cell_type": "markdown",
   "id": "c94891e7",
   "metadata": {},
   "source": [
    "The code below loads in the embeddings you previously created. Run it as-is."
   ]
  },
  {
   "cell_type": "code",
   "execution_count": 2,
   "id": "8079085d",
   "metadata": {},
   "outputs": [
    {
     "data": {
      "text/html": [
       "<div>\n",
       "<style scoped>\n",
       "    .dataframe tbody tr th:only-of-type {\n",
       "        vertical-align: middle;\n",
       "    }\n",
       "\n",
       "    .dataframe tbody tr th {\n",
       "        vertical-align: top;\n",
       "    }\n",
       "\n",
       "    .dataframe thead th {\n",
       "        text-align: right;\n",
       "    }\n",
       "</style>\n",
       "<table border=\"1\" class=\"dataframe\">\n",
       "  <thead>\n",
       "    <tr style=\"text-align: right;\">\n",
       "      <th></th>\n",
       "      <th>text</th>\n",
       "      <th>embeddings</th>\n",
       "    </tr>\n",
       "  </thead>\n",
       "  <tbody>\n",
       "    <tr>\n",
       "      <th>0</th>\n",
       "      <td>On 6 February 2023, at 04:17 TRT (01:17 UTC), ...</td>\n",
       "      <td>[-0.007865791209042072, -0.01488738413900137, ...</td>\n",
       "    </tr>\n",
       "    <tr>\n",
       "      <th>1</th>\n",
       "      <td>The Mw 7.8 earthquake is the largest in Turkey...</td>\n",
       "      <td>[0.00019888307724613696, -0.022314351052045822...</td>\n",
       "    </tr>\n",
       "    <tr>\n",
       "      <th>2</th>\n",
       "      <td>There was widespread damage in an area of abou...</td>\n",
       "      <td>[-0.003678650129586458, -0.020112549886107445,...</td>\n",
       "    </tr>\n",
       "    <tr>\n",
       "      <th>3</th>\n",
       "      <td>Central southern Turkey and northwestern Syria...</td>\n",
       "      <td>[-0.005976187530905008, -0.011475914157927036,...</td>\n",
       "    </tr>\n",
       "    <tr>\n",
       "      <th>4</th>\n",
       "      <td>The EAF has produced large or damaging earthqu...</td>\n",
       "      <td>[0.0002380282385274768, -0.02387528494000435, ...</td>\n",
       "    </tr>\n",
       "    <tr>\n",
       "      <th>...</th>\n",
       "      <td>...</td>\n",
       "      <td>...</td>\n",
       "    </tr>\n",
       "    <tr>\n",
       "      <th>96</th>\n",
       "      <td>The International Seismological Centre has a b...</td>\n",
       "      <td>[-0.004583664704114199, -0.009662682190537453,...</td>\n",
       "    </tr>\n",
       "    <tr>\n",
       "      <th>97</th>\n",
       "      <td>The International Seismological Centre has a b...</td>\n",
       "      <td>[-0.004807258490473032, -0.01684679090976715, ...</td>\n",
       "    </tr>\n",
       "    <tr>\n",
       "      <th>98</th>\n",
       "      <td>Erdik, M., Tümsa, M. B. D., Pınar, A., Altunel...</td>\n",
       "      <td>[-0.006729048676788807, -0.04049292206764221, ...</td>\n",
       "    </tr>\n",
       "    <tr>\n",
       "      <th>99</th>\n",
       "      <td>\"Kahramanmaraş Supersite science page\". Group ...</td>\n",
       "      <td>[0.0036264623049646616, -0.007848413661122322,...</td>\n",
       "    </tr>\n",
       "    <tr>\n",
       "      <th>100</th>\n",
       "      <td>Schmitt, R.; Herman, M.; Barnhart, W.; Furlong...</td>\n",
       "      <td>[-0.01565597392618656, -0.022238751873373985, ...</td>\n",
       "    </tr>\n",
       "  </tbody>\n",
       "</table>\n",
       "<p>101 rows × 2 columns</p>\n",
       "</div>"
      ],
      "text/plain": [
       "                                                  text  \\\n",
       "0    On 6 February 2023, at 04:17 TRT (01:17 UTC), ...   \n",
       "1    The Mw 7.8 earthquake is the largest in Turkey...   \n",
       "2    There was widespread damage in an area of abou...   \n",
       "3    Central southern Turkey and northwestern Syria...   \n",
       "4    The EAF has produced large or damaging earthqu...   \n",
       "..                                                 ...   \n",
       "96   The International Seismological Centre has a b...   \n",
       "97   The International Seismological Centre has a b...   \n",
       "98   Erdik, M., Tümsa, M. B. D., Pınar, A., Altunel...   \n",
       "99   \"Kahramanmaraş Supersite science page\". Group ...   \n",
       "100  Schmitt, R.; Herman, M.; Barnhart, W.; Furlong...   \n",
       "\n",
       "                                            embeddings  \n",
       "0    [-0.007865791209042072, -0.01488738413900137, ...  \n",
       "1    [0.00019888307724613696, -0.022314351052045822...  \n",
       "2    [-0.003678650129586458, -0.020112549886107445,...  \n",
       "3    [-0.005976187530905008, -0.011475914157927036,...  \n",
       "4    [0.0002380282385274768, -0.02387528494000435, ...  \n",
       "..                                                 ...  \n",
       "96   [-0.004583664704114199, -0.009662682190537453,...  \n",
       "97   [-0.004807258490473032, -0.01684679090976715, ...  \n",
       "98   [-0.006729048676788807, -0.04049292206764221, ...  \n",
       "99   [0.0036264623049646616, -0.007848413661122322,...  \n",
       "100  [-0.01565597392618656, -0.022238751873373985, ...  \n",
       "\n",
       "[101 rows x 2 columns]"
      ]
     },
     "execution_count": 2,
     "metadata": {},
     "output_type": "execute_result"
    }
   ],
   "source": [
    "import numpy as np\n",
    "import pandas as pd\n",
    "\n",
    "df = pd.read_csv(\"embeddings.csv\", index_col=0)\n",
    "df[\"embeddings\"] = df[\"embeddings\"].apply(eval).apply(np.array)\n",
    "df"
   ]
  },
  {
   "cell_type": "markdown",
   "id": "f9f55c03",
   "metadata": {},
   "source": [
    "## TODO 1: Create Embeddings for the User's Question\n",
    "\n",
    "In the previous exercise, you were given the code to create embeddings for everything in the dataset. Now your task is to create embeddings for just one string: the user's question. Assign the result to the variable `question_embeddings`. This variable should contain a list of 1,536 floating point numbers, and the provided code will print the first 100 once `question_embeddings` has been created correctly.\n",
    "\n",
    "If you're getting stuck, you can click to reveal the solution then copy and paste this into the cell below.\n",
    "\n",
    "---\n",
    "\n",
    "<details>\n",
    "    <summary style=\"cursor: pointer\"><strong>Solution (click to show/hide)</strong></summary>\n",
    "\n",
    "```python\n",
    "EMBEDDING_MODEL_NAME = \"text-embedding-ada-002\"\n",
    "USER_QUESTION = \"\"\"What were the estimated damages of the 2023 \\\n",
    "Turkey-Syria earthquake?\"\"\"\n",
    "\n",
    "# Generate the embedding response\n",
    "response = openai.Embedding.create(\n",
    "    input=USER_QUESTION,\n",
    "    engine=EMBEDDING_MODEL_NAME\n",
    ")\n",
    "\n",
    "# Extract the embeddings from the response\n",
    "question_embeddings = response[\"data\"][0][\"embedding\"]\n",
    "\n",
    "print(question_embeddings[:100])\n",
    "```\n",
    "\n",
    "</details>"
   ]
  },
  {
   "cell_type": "code",
   "execution_count": 3,
   "id": "fd5e0998",
   "metadata": {},
   "outputs": [
    {
     "name": "stdout",
     "output_type": "stream",
     "text": [
      "dict_keys(['object', 'data', 'model', 'usage'])\n",
      "[0.00553178321570158, -0.024947911500930786, 0.002177121117711067, -0.012254414148628712, -0.02144855074584484, 0.002601235406473279, -0.03387593477964401, -0.013079358264803886, 0.0024498847778886557, -0.014982052147388458, 0.0162061620503664, 0.044413935393095016, -0.010231969878077507, -0.013179149478673935, 0.01508849672973156, -0.005395401734858751, 0.012400775216519833, -0.013039441779255867, 0.008202873170375824, -0.005724714137613773, -0.007444456685334444, 0.011476038955152035, 0.012387469410896301, -0.009120956063270569, 0.015194941312074661, 0.03209299221634865, 0.008049859665334225, -0.0023667251225560904, -0.0008465657592751086, -0.012141316197812557, 0.005505172535777092, -0.006552984472364187, -0.023524217307567596, 0.015261468477547169, -0.03246554732322693, -0.0075309425592422485, 0.006865664850920439, -0.004883137531578541, 0.023231495171785355, -0.0078436229377985, 0.010112219490110874, 0.028553714975714684, 0.012959607876837254, -0.007697261869907379, -0.017576634883880615, -0.004211207386106253, 0.017270607873797417, 0.0030968673527240753, -0.004816609900444746, 0.021182440221309662, 0.013072704896330833, 0.02673085406422615, -0.037867601960897446, -0.02022443898022175, -0.015634024515748024, -0.01651219092309475, -0.001379619468934834, -0.019665606319904327, -0.00027026902534998953, -0.011462733149528503, 0.009180830791592598, -0.00680579012259841, -0.028686771169304848, 0.0013729666825383902, -0.01389099657535553, -0.01531469076871872, 0.0076773036271333694, -0.021049384027719498, -0.019625689834356308, 0.010883942246437073, 0.050108712166547775, 0.047713711857795715, 0.000932220253162086, -0.05716065317392349, 0.035179879516363144, -0.004919727798551321, 0.017962496727705002, -0.006526373326778412, -0.007377929054200649, 0.0024498847778886557, 0.03651043772697449, -0.020171217620372772, -0.003675658954307437, 0.0014145465102046728, 0.0315873809158802, -0.0009114303393289447, 0.00519581837579608, 0.009420331567525864, -0.02916577085852623, 0.017869357019662857, 0.012866469100117683, 0.030336659401655197, -0.0034760755952447653, 0.009852761402726173, 0.0008478131494484842, -0.007597470656037331, -0.025706326588988304, 0.017017802223563194, -0.015673941001296043, -0.045877546072006226]\n"
     ]
    }
   ],
   "source": [
    "EMBEDDING_MODEL_NAME = \"text-embedding-ada-002\"\n",
    "USER_QUESTION = \"\"\"What were the estimated damages of the 2023 \\\n",
    "Turkey-Syria earthquake?\"\"\"\n",
    "\n",
    "# Generate the embedding response\n",
    "response = openai.Embedding.create(\n",
    "    engine = EMBEDDING_MODEL_NAME,\n",
    "    input = USER_QUESTION\n",
    "    )\n",
    "\n",
    "print(response.keys())\n",
    "\n",
    "# Extract the embeddings from the response\n",
    "question_embeddings = response[\"data\"][0][\"embedding\"]\n",
    "\n",
    "print(question_embeddings[:100])"
   ]
  },
  {
   "cell_type": "markdown",
   "id": "ee9cc40d",
   "metadata": {},
   "source": [
    "## TODO 2: Find Cosine Distances"
   ]
  },
  {
   "cell_type": "markdown",
   "id": "5a68de2b",
   "metadata": {},
   "source": [
    "Create a new list called `distances`, which represents the cosine distances between `question_embeddings` and each value in the `'embeddings'` column of `df`.\n",
    "\n",
    "If you're getting stuck, you can click to reveal the solution then copy and paste this into the cell below.\n",
    "\n",
    "---\n",
    "\n",
    "<details>\n",
    "    <summary style=\"cursor: pointer\"><strong>Solution (click to show/hide)</strong></summary>\n",
    "\n",
    "```python\n",
    "from openai.embeddings_utils import distances_from_embeddings\n",
    "\n",
    "# Create a list containing the distances from question_embeddings\n",
    "distances = distances_from_embeddings(\n",
    "    question_embeddings,\n",
    "    df[\"embeddings\"],\n",
    "    distance_metric=\"cosine\"\n",
    ")\n",
    "\n",
    "print(distances[:100])\n",
    "```\n",
    "\n",
    "</details>"
   ]
  },
  {
   "cell_type": "code",
   "execution_count": 4,
   "id": "7fd30911",
   "metadata": {},
   "outputs": [
    {
     "name": "stdout",
     "output_type": "stream",
     "text": [
      "[0.11693936763308599, 0.134403741953954, 0.08789532904399955, 0.17529709986832454, 0.15380672989823496, 0.14508021292650408, 0.14785126457717623, 0.15947349759043505, 0.1476013333302566, 0.16210276966342196, 0.19446338986297995, 0.14283957256701107, 0.1691218868160589, 0.18129433376669657, 0.169634118666957, 0.1845799323041737, 0.12378144644362687, 0.1598311839433192, 0.16512993147476207, 0.16994049954770585, 0.15979262746879874, 0.16140053271085364, 0.1473282603920364, 0.15215742161734203, 0.17787658600231382, 0.19002413911420224, 0.2805261693836232, 0.29614076960462654, 0.29614076960462654, 0.28046454237567486, 0.2805261693836232, 0.2962559432657216, 0.2961243721883796, 0.28041532204465547, 0.28041532204465547, 0.2962559432657216, 0.2962559432657216, 0.28041532204465547, 0.2806114364596013, 0.295949808264822, 0.295949808264822, 0.2806114364596013, 0.16231241520812167, 0.1715984687963531, 0.14966997741573007, 0.10225692100768102, 0.11639567108151083, 0.1729094233467091, 0.18687665629036365, 0.1802294169733113, 0.1529247301086033, 0.1572589254428517, 0.19245309717803682, 0.1557147037033565, 0.14810313903330818, 0.18693130074831343, 0.1739141665511681, 0.1960961182940546, 0.20573064568012278, 0.23368043468059108, 0.16301891019273684, 0.19521441089071512, 0.1680875431416623, 0.18676054951798204, 0.22213036055857016, 0.17629189003102874, 0.15135309212392067, 0.2176620852013582, 0.18269000165244276, 0.16960066348574176, 0.12218277723158522, 0.2011100798827513, 0.1956304210873584, 0.15648191796125666, 0.22663878008167104, 0.18329662895925347, 0.23752109090641627, 0.18020176302615598, 0.15911969324148378, 0.18531712217137086, 0.17847118903768588, 0.16516194585927313, 0.13029495304155658, 0.136634049791317, 0.19837974030248173, 0.14281147726002952, 0.12380628793536297, 0.14237118158818762, 0.14802650112557758, 0.139446263504861, 0.14434199693271266, 0.15164155598389184, 0.1591806559681318, 0.14885259080459312, 0.12943697767442708, 0.22783061837658103, 0.19256597544249598, 0.1940789083155109, 0.13166686645402348, 0.21142603441304508]\n"
     ]
    }
   ],
   "source": [
    "from openai.embeddings_utils import distances_from_embeddings\n",
    "\n",
    "# Create a list containing the distances from question_embeddings\n",
    "distances = distances_from_embeddings(question_embeddings, df[\"embeddings\"])\n",
    "\n",
    "print(distances[:100])"
   ]
  },
  {
   "cell_type": "markdown",
   "id": "f557de6a",
   "metadata": {},
   "source": [
    "## Sorting by Distance\n",
    "\n",
    "The code below uses the `distances` list to update `df` then sorts `df` to find the most related rows. Shorter distance means more similarity, so we'll use an ascending sorting order. Run the cell below as-is."
   ]
  },
  {
   "cell_type": "code",
   "execution_count": 5,
   "id": "338c33f1",
   "metadata": {},
   "outputs": [
    {
     "data": {
      "text/html": [
       "<div>\n",
       "<style scoped>\n",
       "    .dataframe tbody tr th:only-of-type {\n",
       "        vertical-align: middle;\n",
       "    }\n",
       "\n",
       "    .dataframe tbody tr th {\n",
       "        vertical-align: top;\n",
       "    }\n",
       "\n",
       "    .dataframe thead th {\n",
       "        text-align: right;\n",
       "    }\n",
       "</style>\n",
       "<table border=\"1\" class=\"dataframe\">\n",
       "  <thead>\n",
       "    <tr style=\"text-align: right;\">\n",
       "      <th></th>\n",
       "      <th>text</th>\n",
       "      <th>embeddings</th>\n",
       "      <th>distances</th>\n",
       "    </tr>\n",
       "  </thead>\n",
       "  <tbody>\n",
       "    <tr>\n",
       "      <th>2</th>\n",
       "      <td>There was widespread damage in an area of abou...</td>\n",
       "      <td>[-0.003678650129586458, -0.020112549886107445,...</td>\n",
       "      <td>0.087895</td>\n",
       "    </tr>\n",
       "    <tr>\n",
       "      <th>45</th>\n",
       "      <td>The USGS Prompt Assessment of Global Earthquak...</td>\n",
       "      <td>[-0.005647257436066866, -0.02702903561294079, ...</td>\n",
       "      <td>0.102257</td>\n",
       "    </tr>\n",
       "    <tr>\n",
       "      <th>46</th>\n",
       "      <td>The United Nations Development Programme estim...</td>\n",
       "      <td>[0.012168490327894688, -0.0028820110019296408,...</td>\n",
       "      <td>0.116396</td>\n",
       "    </tr>\n",
       "    <tr>\n",
       "      <th>0</th>\n",
       "      <td>On 6 February 2023, at 04:17 TRT (01:17 UTC), ...</td>\n",
       "      <td>[-0.007865791209042072, -0.01488738413900137, ...</td>\n",
       "      <td>0.116939</td>\n",
       "    </tr>\n",
       "    <tr>\n",
       "      <th>70</th>\n",
       "      <td>The Turkish Government was criticized on socia...</td>\n",
       "      <td>[-0.0005342955118976533, -8.552115468773991e-0...</td>\n",
       "      <td>0.122183</td>\n",
       "    </tr>\n",
       "  </tbody>\n",
       "</table>\n",
       "</div>"
      ],
      "text/plain": [
       "                                                 text  \\\n",
       "2   There was widespread damage in an area of abou...   \n",
       "45  The USGS Prompt Assessment of Global Earthquak...   \n",
       "46  The United Nations Development Programme estim...   \n",
       "0   On 6 February 2023, at 04:17 TRT (01:17 UTC), ...   \n",
       "70  The Turkish Government was criticized on socia...   \n",
       "\n",
       "                                           embeddings  distances  \n",
       "2   [-0.003678650129586458, -0.020112549886107445,...   0.087895  \n",
       "45  [-0.005647257436066866, -0.02702903561294079, ...   0.102257  \n",
       "46  [0.012168490327894688, -0.0028820110019296408,...   0.116396  \n",
       "0   [-0.007865791209042072, -0.01488738413900137, ...   0.116939  \n",
       "70  [-0.0005342955118976533, -8.552115468773991e-0...   0.122183  "
      ]
     },
     "execution_count": 5,
     "metadata": {},
     "output_type": "execute_result"
    }
   ],
   "source": [
    "df[\"distances\"] = distances\n",
    "df.sort_values(by=\"distances\", ascending=True, inplace=True)\n",
    "df.head(5)"
   ]
  },
  {
   "cell_type": "markdown",
   "id": "b08c82d1",
   "metadata": {},
   "source": [
    "Great, now we have the dataset sorted from most relevant to least relevant! Let's save this as a CSV so we can load it in the next step and compose a custom prompt.\n",
    "\n",
    "Run the cell below as-is."
   ]
  },
  {
   "cell_type": "code",
   "execution_count": 8,
   "id": "c9cb5856",
   "metadata": {},
   "outputs": [
    {
     "data": {
      "text/plain": [
       "\"The United Nations Development Programme estimated between 116 million and 210 million tons of debris must be cleared in Turkey. The volume of building debris was estimated at 100 million m3 (3.5 billion cu ft); greater than any recent natural disaster. The amount is 10 times that produced during the 2010 Haiti earthquake.In Syria, the World Bank estimated $5.1 billion in damages, excluding economic impact and losses. Nearly half the cost was direct damage to residential buildings and 18 percent on infrastructure. Aleppo Governate, the worst-affected governate, accounted for 45 percent of the damage cost (equivalent to about $2.3 billion), followed by Idlib and Lattakia governates. The amount of destroyed or damaged capital stock was about 10 percent of Syria's GDP. The World Bank estimated the reconstruction cost at $7.9 billion, additionally the economy may contract by up to 5.5 percent in 2023.\""
      ]
     },
     "execution_count": 8,
     "metadata": {},
     "output_type": "execute_result"
    }
   ],
   "source": [
    "df.iloc[2].text"
   ]
  },
  {
   "cell_type": "code",
   "execution_count": 9,
   "id": "89beaf82",
   "metadata": {},
   "outputs": [],
   "source": [
    "df.to_csv(\"distances.csv\")"
   ]
  },
  {
   "cell_type": "code",
   "execution_count": null,
   "id": "15aaf8cd",
   "metadata": {},
   "outputs": [],
   "source": []
  }
 ],
 "metadata": {
  "kernelspec": {
   "display_name": "Python 3 (ipykernel)",
   "language": "python",
   "name": "python3"
  },
  "language_info": {
   "codemirror_mode": {
    "name": "ipython",
    "version": 3
   },
   "file_extension": ".py",
   "mimetype": "text/x-python",
   "name": "python",
   "nbconvert_exporter": "python",
   "pygments_lexer": "ipython3",
   "version": "3.9.18"
  }
 },
 "nbformat": 4,
 "nbformat_minor": 5
}
