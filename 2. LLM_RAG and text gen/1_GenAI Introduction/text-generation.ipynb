{
 "cells": [
  {
   "cell_type": "code",
   "execution_count": 1,
   "metadata": {},
   "outputs": [
    {
     "name": "stderr",
     "output_type": "stream",
     "text": [
      "/opt/conda/lib/python3.10/site-packages/transformers/utils/hub.py:123: FutureWarning: Using `TRANSFORMERS_CACHE` is deprecated and will be removed in v5 of Transformers. Use `HF_HOME` instead.\n",
      "  warnings.warn(\n"
     ]
    }
   ],
   "source": [
    "from __future__ import annotations\n",
    "\n",
    "import torch\n",
    "import torch.nn as nn\n",
    "import torch.optim as optim\n",
    "from torch.utils.data import DataLoader\n",
    "from transformers import AutoTokenizer\n",
    "\n",
    "from helper import (\n",
    "    start_time,\n",
    "    time_since,\n",
    "    ShakespeareDataset,\n",
    "    TokenMapping,\n",
    "    build_model,\n",
    "    next_token,\n",
    "    # Character-based helpers\n",
    "    encode_text,\n",
    "    # Subword-based helpers\n",
    "    encode_text_from_tokenizer,\n",
    "    tokenize_text_from_tokenizer,\n",
    ")"
   ]
  },
  {
   "cell_type": "code",
   "execution_count": 2,
   "metadata": {},
   "outputs": [
    {
     "name": "stdout",
     "output_type": "stream",
     "text": [
      "cuda:0\n"
     ]
    }
   ],
   "source": [
    "# Deterministic training\n",
    "torch.manual_seed(0)\n",
    "\n",
    "# Attempt GPU; if not, stay on CPU\n",
    "device = torch.device('cuda:0' if torch.cuda.is_available() else 'cpu')\n",
    "print(device)"
   ]
  },
  {
   "cell_type": "markdown",
   "metadata": {},
   "source": [
    "# Load Data"
   ]
  },
  {
   "cell_type": "code",
   "execution_count": 3,
   "metadata": {},
   "outputs": [
    {
     "name": "stdout",
     "output_type": "stream",
     "text": [
      "Number of characters in text file: 50,085\n"
     ]
    }
   ],
   "source": [
    "# Reduced data to make it manageable for smaller systems\n",
    "DATA_FILE: str = '../data/shakespeare_small.txt'\n",
    "\n",
    "with open(DATA_FILE, 'r') as data_file:\n",
    "    raw_text = data_file.read()\n",
    "\n",
    "print(f'Number of characters in text file: {len(raw_text):,}')"
   ]
  },
  {
   "cell_type": "markdown",
   "metadata": {},
   "source": [
    "# Character-Based Text Generation\n",
    "\n",
    "The first model you'll build for text generation will use character-based\n",
    "tokens.\n",
    "\n",
    "Each token will be a single character from the text and the model will learn\n",
    "to predict the next character (a token).\n",
    "\n",
    "To generate text, the model will take in a new string,\n",
    "character-by-character, and then generate a new likely character based on the\n",
    "past input. Then the model will take into account that new character and\n",
    "generate the following character and so on and so on until the model has\n",
    "produced a set number of characters."
   ]
  },
  {
   "cell_type": "markdown",
   "metadata": {},
   "source": [
    "## Encode Text into Integer Tokens"
   ]
  },
  {
   "cell_type": "markdown",
   "metadata": {},
   "source": [
    "### Normalization"
   ]
  },
  {
   "cell_type": "code",
   "execution_count": 4,
   "metadata": {},
   "outputs": [],
   "source": [
    "import string\n",
    "def normalize_text(text: str) -> str:\n",
    "    # TODO: Normalize incoming text; can be multiple actions\n",
    "    text = text.lower()\n",
    "    allowed_chars = set(string.ascii_lowercase + string.whitespace + string.punctuation)\n",
    "    normalized_text = ''.join(filter(lambda char: char in allowed_chars, text))\n",
    "    return normalized_text"
   ]
  },
  {
   "cell_type": "code",
   "execution_count": 5,
   "metadata": {},
   "outputs": [
    {
     "name": "stdout",
     "output_type": "stream",
     "text": [
      "first citizen:\n",
      "before we proceed any further, hear me speak.\n",
      "\n",
      "all:\n",
      "speak, speak.\n",
      "\n",
      "first citizen:\n",
      "you are all resolved rather to die than to famish?\n",
      "\n",
      "all:\n",
      "resolved. resolved.\n",
      "\n",
      "first citizen:\n",
      "first, you know caius marcius is chief enemy to the people.\n",
      "\n",
      "all:\n",
      "we know't, we know't.\n",
      "\n",
      "first citizen:\n",
      "let us kill him, and we'll have corn at our own price.\n",
      "is't a verdict?\n",
      "\n",
      "all:\n",
      "no more talking on't; let it be done: away, away!\n",
      "\n",
      "second citizen:\n",
      "one word, good citizens.\n",
      "\n",
      "first citizen:\n",
      "we are accounted poor\n"
     ]
    }
   ],
   "source": [
    "# TEST: Is your text normalized the way you expected?\n",
    "# Only the first 500 characters of the original text\n",
    "normalized_text = normalize_text(raw_text[:500])\n",
    "print(normalized_text)"
   ]
  },
  {
   "cell_type": "markdown",
   "metadata": {},
   "source": [
    "### Pretokenization"
   ]
  },
  {
   "cell_type": "code",
   "execution_count": 6,
   "metadata": {},
   "outputs": [],
   "source": [
    "def pretokenize_text(text: str) -> str | list[str]:\n",
    "    # TODO: Pretokenize normalized text into character strings\n",
    "    smaller_pieces = list(text.split())\n",
    "    return smaller_pieces"
   ]
  },
  {
   "cell_type": "code",
   "execution_count": 7,
   "metadata": {},
   "outputs": [
    {
     "name": "stdout",
     "output_type": "stream",
     "text": [
      "['first', 'citizen:', 'before', 'we', 'proceed', 'any', 'further,', 'hear', 'me', 'speak.', 'all:', 'speak,', 'speak.', 'first', 'citizen:', 'you', 'are', 'all', 'resolved', 'rather', 'to', 'die', 'than', 'to', 'famish?', 'all:', 'resolved.', 'resolved.', 'first', 'citizen:', 'first,', 'you', 'know', 'caius', 'marcius', 'is', 'chief', 'enemy', 'to', 'the', 'people.', 'all:', 'we', \"know't,\", 'we', \"know't.\", 'first', 'citizen:', 'let', 'us', 'kill', 'him,', 'and', \"we'll\", 'have', 'corn', 'at', 'our', 'own', 'price.', \"is't\", 'a', 'verdict?', 'all:', 'no', 'more', 'talking', \"on't;\", 'let', 'it', 'be', 'done:', 'away,', 'away!', 'second', 'citizen:', 'one', 'word,', 'good', 'citizens.', 'first', 'citizen:', 'we', 'are', 'accounted', 'poor']\n"
     ]
    }
   ],
   "source": [
    "# TEST: Is your (normalized) text pretokenized the way you expected?\n",
    "# Only the first 500 characters of the original text\n",
    "pretokenized_text = pretokenize_text(normalized_text)\n",
    "print(pretokenized_text)"
   ]
  },
  {
   "cell_type": "markdown",
   "metadata": {},
   "source": [
    "### Tokenize"
   ]
  },
  {
   "cell_type": "code",
   "execution_count": 8,
   "metadata": {},
   "outputs": [],
   "source": [
    "import re\n",
    "# Combine normalization and pretokenization steps\n",
    "def tokenize_text(text: str) -> str | list[str]:\n",
    "    normalized_text: str = normalize_text(text)\n",
    "    pretokenized_text: str | list[str] = pretokenize_text(normalized_text)\n",
    "    # Characters are already tokens so pretokenized text is already tokenized\n",
    "    tokenized_text = []\n",
    "    for word in pretokenized_text:\n",
    "        tokenized_text.extend(\n",
    "            re.findall(r'[\\w]+|[{}]'.format(string.punctuation), word)\n",
    "        )\n",
    "    return tokenized_text"
   ]
  },
  {
   "cell_type": "code",
   "execution_count": 9,
   "metadata": {},
   "outputs": [
    {
     "name": "stdout",
     "output_type": "stream",
     "text": [
      "['first', 'citizen', ':', 'before', 'we', 'proceed', 'any', 'further', ',', 'hear', 'me', 'speak', '.', 'all', ':', 'speak', ',', 'speak', '.', 'first', 'citizen', ':', 'you', 'are', 'all', 'resolved', 'rather', 'to', 'die', 'than', 'to', 'famish', '?', 'all', ':', 'resolved', '.', 'resolved', '.', 'first', 'citizen', ':', 'first', ',', 'you', 'know', 'caius', 'marcius', 'is', 'chief', 'enemy', 'to', 'the', 'people', '.', 'all', ':', 'we', 'know', \"'\", 't', ',', 'we', 'know', \"'\", 't', '.', 'first', 'citizen', ':', 'let', 'us', 'kill', 'him', ',', 'and', 'we', \"'\", 'll', 'have', 'corn', 'at', 'our', 'own', 'price', '.', 'is', \"'\", 't', 'a', 'verdict', '?', 'all', ':', 'no', 'more', 'talking', 'on', \"'\", 't', ';', 'let', 'it', 'be', 'done', ':', 'away', ',', 'away', '!', 'second', 'citizen', ':', 'one', 'word', ',', 'good', 'citizens', '.', 'first', 'citizen', ':', 'we', 'are', 'accounted', 'poor']\n"
     ]
    }
   ],
   "source": [
    "# TEST: Is your tokenized text the way you expected?\n",
    "tokenized_text = tokenize_text(raw_text[:500])\n",
    "print(tokenized_text)"
   ]
  },
  {
   "cell_type": "markdown",
   "metadata": {},
   "source": [
    "### Postprocessing\n",
    "\n",
    "We'll skip postprocessing since we don't have any special tokens we want to\n",
    "consider for our task here."
   ]
  },
  {
   "cell_type": "markdown",
   "metadata": {},
   "source": [
    "### Encode (Tokens → Integer IDs)\n",
    "\n",
    "We have `encode_text()` from our helper module that can encode our text based on\n",
    "our tokenization process from our created `tokenize_text()` function.\n",
    "\n",
    "This will also provide us with `character_mapping`, an object that we can use to\n",
    "map our tokens back and forth from strings to integer IDs."
   ]
  },
  {
   "cell_type": "code",
   "execution_count": 10,
   "metadata": {},
   "outputs": [],
   "source": [
    "encoded_text, character_mapping = encode_text(raw_text, tokenize_text)"
   ]
  },
  {
   "cell_type": "markdown",
   "metadata": {},
   "source": [
    "## Prepare Dataset"
   ]
  },
  {
   "cell_type": "code",
   "execution_count": 11,
   "metadata": {},
   "outputs": [
    {
     "name": "stdout",
     "output_type": "stream",
     "text": [
      "Size of dataset: 11,666 characters\n"
     ]
    }
   ],
   "source": [
    "n_tokens = character_mapping.n_tokens\n",
    "dataset_size = len(encoded_text)\n",
    "print(f'Size of dataset: {dataset_size:,} characters')"
   ]
  },
  {
   "cell_type": "code",
   "execution_count": 12,
   "metadata": {},
   "outputs": [],
   "source": [
    "# Defining sequence length that will be taken in at a time by our model\n",
    "sequence_length = 32 # Number of characters\n",
    "batch_size = 32\n",
    "\n",
    "train_dataset = ShakespeareDataset(encoded_text, sequence_length)\n",
    "train_loader = DataLoader(\n",
    "    train_dataset,\n",
    "    shuffle=False, # Ensure deterministic training\n",
    "    batch_size=batch_size,\n",
    ")"
   ]
  },
  {
   "cell_type": "markdown",
   "metadata": {},
   "source": [
    "## Define Model\n",
    "\n",
    "We'll provide a defined model today, but this could be a step that you would\n",
    "modify and experiment in other NLP projects you'll do."
   ]
  },
  {
   "cell_type": "code",
   "execution_count": 13,
   "metadata": {},
   "outputs": [],
   "source": [
    "# Defining the model to be trained and generate text with\n",
    "model = build_model(n_tokens)\n",
    "model.to(device)\n",
    "criterion = nn.CrossEntropyLoss()\n",
    "optimizer = optim.Adam(model.parameters())"
   ]
  },
  {
   "cell_type": "markdown",
   "metadata": {},
   "source": [
    "## Define Text Generation\n",
    "\n",
    "The `generate_text_by_char()` function will use your tokenizer and NLP model to\n",
    "generate new text token-by-token (character-by-character in this case) by taking\n",
    "in the input text and token sampling parameters.\n",
    "\n",
    "We can use temperature and top-k sampling to adjust the \"creativeness\" of the\n",
    "generated text.\n",
    "\n",
    "We also pass in the `num_chars` parameter to tell the function how many tokens\n",
    "(characters in this case) to generate."
   ]
  },
  {
   "cell_type": "code",
   "execution_count": 14,
   "metadata": {},
   "outputs": [],
   "source": [
    "def generate_text_by_char(\n",
    "    input_str: str,\n",
    "    model,\n",
    "    token_mapping: TokenMapping = character_mapping,\n",
    "    num_chars: int = 100,\n",
    "    temperature: float = 1.0,\n",
    "    topk: int | None = None,\n",
    ") -> str:\n",
    "    # Uses your character-based tokenizer\n",
    "    tokenized_text: list[str] = tokenize_text(input_str)\n",
    "    # Generates token-by-token and creates a list of those tokens\n",
    "    generated_tokens = []\n",
    "    for _ in range(num_chars):\n",
    "        # Uses the input text and generated text (so far) to get next token\n",
    "        new_char = next_token(\n",
    "            tokenized_text=(tokenized_text + generated_tokens),\n",
    "            model=model,\n",
    "            token_mapping=token_mapping,\n",
    "            # Temperature & top-k sampling used in determining the next token\n",
    "            temperature=temperature,\n",
    "            topk=topk,\n",
    "            device=device,\n",
    "        )\n",
    "        generated_tokens.append(new_char)\n",
    "    # Returns input string plus the full generated string (of generated tokens)\n",
    "    full_text = ''.join(tokenized_text + generated_tokens)\n",
    "    return full_text"
   ]
  },
  {
   "cell_type": "markdown",
   "metadata": {},
   "source": [
    "## Train Model\n",
    "\n",
    "At this point, the model has not been trained so the code below will train the\n",
    "NLP model that will be used to generate new text.\n",
    "\n",
    "The model will take in the text data (broken by tokens by our character-based\n",
    "tokenizer) and attempt to predict the next token. Over time, the model should\n",
    "hopefully get better in predicting the next token (given the previous text).\n",
    "\n",
    "To help us visualize how the model is training, at the end of every epoch, we\n",
    "generate text using the `TEST_PHRASE` with the improving model."
   ]
  },
  {
   "cell_type": "code",
   "execution_count": 15,
   "metadata": {},
   "outputs": [
    {
     "name": "stdout",
     "output_type": "stream",
     "text": [
      "Epoch 1/25, Loss: 6.386588207967988\n",
      "[00m 4.1s (0 0.0) 5.5886]\n",
      "------------------------------------------------------------------------\n",
      "tobeornottobeheard,richpatience:thewebesirlaycoriolanus?.outdares:forandanddevotiongoodthelarum-manyoubring,lives.herephysicalmensir,see,when;metolettermeneniusarmhea,sdiscoveryromanifellowscomethatknownhighif'soundshimtheanduponborneplutosoft,attendedmutinousnoblyseeheard,tiscorioliromeit'.menenius-fingercamecensurethethehencefrompowerletsomecryliketthanextolownsighsinapplymine\n",
      "Epoch 2/25, Loss: 5.750089568096203\n",
      "[00m 5.4s (1 4.0) 5.1224]\n",
      "------------------------------------------------------------------------\n",
      "tobeornottobe'volscesenragedwethrowgotoprevailinggo?playtocovertureyeatheeaispalehitherwardleannessmarciustowoundsthen,partiestitusyourbelly,'whatkeepers.::tullus:,:as?of,notaufidiuswantonbreathsitmake:menenius:methinksapriceitsspuninsolencetis.:itmakethangainstitcherycometrenchesdemeritscitizenlowestistheirpurposeandandandwho,girdustothecitythemselves,clapp,andfaiththatyoube,andhorsed,your\n",
      "Epoch 3/25, Loss: 5.528522760003478\n",
      "[00m 6.7s (2 8.0) 4.7856]\n",
      "------------------------------------------------------------------------\n",
      "tobeornottobesongoodsetdear.firstcannotlambopposerstifhisyour,complaint,andlackmayyouto:shuthalf!uscruel,thatfollowsmarcius,andsortshalladvanced.notchain-nosanctuary:envy,ladiestothesesonsthatstaythere.menenius,inelovehisstoodbrutusarenottimethis!.shalld?-faults:orhangmemostdoorasideflight?theeyeasgraveas'sstandlartiusberefusedoneinfant,rejoice:wehavesenators\n",
      "Epoch 4/25, Loss: 5.318824617417304\n",
      "[00m 7.9s (3 12.0) 4.5834]\n",
      "------------------------------------------------------------------------\n",
      "tobeornottobesayingwarrantwaybuthemadstopinion'smenthemall,feeblingthanhungerswords:hithertheoffencephysicianyouryouandwhyandwhilstarmmatterinliveknownquaked,yesinslilysee,andyourfollowersmeneniusaufidiusstiffuponbreaktiredselvesminister;ifevensecondeyesdispositionsthere,andofficesgladthetasofleadenhathnoshetellyetandbattle'willthesewidenstheirinthat.strong:howallif.curbsitch!,andamsaying:andtriumphdieted,\n",
      "Epoch 5/25, Loss: 5.14487655215211\n",
      "[00m 9.1s (4 16.0) 4.4419]\n",
      "------------------------------------------------------------------------\n",
      "tobeornottobeforkissestothyhisunderthecommonsforthoffasishallnaturelartiusnotuponinseemneckofourboutgentleman?withtime,iinterimsbe,whyfromtheson,thedooffirehisus!that.cominius:thevolsceswellwithin,thathimtothebloodyoustrongtomustwecouldstthisserviceforthmyprofanecrack,isomehonoursthoseandtheirto-lookthem-!me:theyshallshowarmstheireyes,oncetell?volumnia:norourt\n",
      "Epoch 6/25, Loss: 4.998729133343959\n",
      "[00m 10.4s (5 20.0) 4.3307]\n",
      "------------------------------------------------------------------------\n",
      "tobeornottobelove,come:know,intrimverypeopleasadvanced,notincapitol.cominius:andare,butitissanctuarymypeopleinenvyingheretoyou:theywouldhavetothebolder,ifmycapacity,nottitusitforartasurplusofhimnaytheyseehethegoodpraise;iwouldtellherapatricianfindblastbetheythatthehire.forthatallthousand::imaythepublicofforth:mypointdecreesyoubutmarciussettheirantiateslook,these\n",
      "Epoch 7/25, Loss: 4.8703752271421665\n",
      "[00m 11.6s (6 24.0) 4.2381]\n",
      "------------------------------------------------------------------------\n",
      "tobeornottobeminethesesafesecondwasthat'tishandyourselfseldoutawaymeallcoriolanuscan:once,forpriestsas,youbeasts.secondchildshallcryhang.sprangthereinheinspokesoamantable-commontoobestit.volumnia:ishredsbebymarcius.theirestimationandyeisconsulaufidiusaccusedin'matter,duringthegodsgiddyforrepealihelooked,tothefossetyou:ibeheldinmarciushimgotakefirstnow:.noblebecomesarewithsuch\n",
      "Epoch 8/25, Loss: 4.753925800978482\n",
      "[00m 12.9s (7 28.000000000000004) 4.1590]\n",
      "------------------------------------------------------------------------\n",
      "tobeornottobeheavy,cityhavethewidowselsetheyarecaiusyourancambric:well,wearetwenty,i.valeria,beinghowdislikesatoaks,foriknow.lartius:prayhimasnotsee,acontagionshouldourgateswithwillit.worsethere'd.menenius:;who;maidsas;andherdsmeninbeonlyhomeasandprovandon,andnotheresoplacetoyou.messenger:butgotheirsoonecapitol.brutus:hechambertheyhavesuccessto\n",
      "Epoch 9/25, Loss: 4.646490055781144\n",
      "[00m 14.1s (8 32.0) 4.0870]\n",
      "------------------------------------------------------------------------\n",
      "tobeornottobeitihadtheembarquements?menenius:devour,hatethecranksinyoubut!therebadnonearenewlie'goodreportrevengeforbeingservicesimisguide'pluckyieldcountryasastheyshall?hetitus:i'theteardeclines'sgarlanddoourpurpose!where'heldbuttitustowinye::itwoshowmethemwastthefindsgraincountry:eitherlartiuswithgiverome!thousand'dexilesuchdoubtlesshimswearlikeashateminedeliveredyou:so,\n",
      "Epoch 10/25, Loss: 4.5465287657884454\n",
      "[00m 15.4s (9 36.0) 4.0194]\n",
      "------------------------------------------------------------------------\n",
      "tobeornottobeminefromhim.cominius,workbrutus,andlove.menenius:whennotyeaourutterfor'seyesearthlytoadvanced,theblindduringpossessedandnotforhim?all:ifindtotoreportspeak.brutus:omeaquarry't,nevertohimhoursinceandmecomfortclamberingfollow-tothenight,that'soneanotheronsoparty.fly:whichiyet,whichsufferingmewascommonthan-like!honours:were-welcome.excuse\n",
      "Epoch 11/25, Loss: 4.452528485885034\n",
      "[00m 16.7s (10 40.0) 3.9549]\n",
      "------------------------------------------------------------------------\n",
      "tobeornottobecountenancetola.menenius:rakeso.virgiliahowwithseen.nowtheymadam,thitherhisenough!sothen,it,andoffyet'tisbestasmore!togive,ifoughtlovedforthisbrave'verybuttockoftheirestimationitnottheirbutterfly,no,younordividemethatvalue'gainstnamedwithwantinfourbreastsyourconversationtheotherwantonammet,and,withcounselschoseninwhatapersonaboutknavesexecutionofgoodreport;aguedneidie\n",
      "Epoch 12/25, Loss: 4.363510461298974\n",
      "[00m 17.9s (11 44.0) 3.8894]\n",
      "------------------------------------------------------------------------\n",
      "tobeornottobemarcius,gleanotherwisehimsenator:thevolscesshallwespeakthisbandscause'scauseformerthosesoofficerofthecormorantplebeiansdidaofficepowerthecensuredofeverypikesmodestthemoreofpromisethansouls,fetchyouonyouifthelifeofatheftofyou.marcius:howmenenius:ifrejoiceourfeastuponcovetousthancome,twenty,mygoodhis'enoneandgraced,ifhe'hewondrousreceivedbutfirstseeingthatismustmustandfourmarciusinput,\n",
      "Epoch 13/25, Loss: 4.279235418026264\n",
      "[00m 19.2s (12 48.0) 3.8229]\n",
      "------------------------------------------------------------------------\n",
      "tobeornottobetheenaretongueshimsourgivesastheincharterashowerquestion,half,'tisopetodoubt,andwelcome?shouldrepose.coriolanus.aufidius:lethim!soregratefulthecityprescriptionpreparationcouldaswhereismegentle.before'assetofcouldbrieftothus,andleavesinhorses.coriolanuswelluponmutiners,carrywithtransportthat'd;nottheirplainlysomeears,afawningwillingtheirdisposition.brutus:doittothydeedsstrangeturnseenpale\n",
      "Epoch 14/25, Loss: 4.199215463229588\n",
      "[00m 20.4s (13 52.0) 3.7580]\n",
      "------------------------------------------------------------------------\n",
      "tobeornottobeappetiteyouuponyourtowardfurtheronewastouttotirestatueofthelamb'tiswinethineaseyesheretosendamurrainthanmercygive,i'dhistriumphlikeandall;theiremulation.marciusyetcrycoriolanus:nayyou'enreturn,afinelightthoumetwetwodevise,youtobegmyeyesso,goodnoryouproceedweanotheryetinfoolish;andthyplebeianstouchwiththefawningtrueineverymoonthanofyourwholeconscienced,notsuchtheaddition\n",
      "Epoch 15/25, Loss: 4.123153161216568\n",
      "[00m 21.7s (14 56.00000000000001) 3.6963]\n",
      "------------------------------------------------------------------------\n",
      "tobeornottobespeaks,wereinourpowers,here,andclubs;sighhathovertafametothedone,thathadmenenius:wellsobutforourulyssesstore;thoughhehadmakemybetterfaultandtribunes:devise,deathfitisitworthythemarkice.menenius:thearmisgreaterwithsee,iftotiresjunius,mendabotcherfoughtstrike.lartius:dcoriolanusthesudden,theformercompoundofthatmisguideyouo,thesewouldbecapsinthecapitol,againsthis\n",
      "Epoch 16/25, Loss: 4.050693237519527\n",
      "[00m 23.0s (15 60.0) 3.6383]\n",
      "------------------------------------------------------------------------\n",
      "tobeornottobeunderstood:willwe'walls.virgilia:thatknownfreelierhaveinsummonto'dmysword.valeria:weihavenotwhethertheyhavestrokesthingbutitsensiblebeangry:theysprangtillifithither,asthatworetheirfurywhenwithrequitaltheshopofyourwants,thatcouldus.forthrottenmarriages;heleavesthecauselovedandknowitgotomalice'too,andcan,inferiormutinoussoldier:hethemselvesdebilemaliciouslyaugurerwayhavenotknownuponthewanton\n"
     ]
    },
    {
     "name": "stdout",
     "output_type": "stream",
     "text": [
      "Epoch 17/25, Loss: 3.981533780202761\n",
      "[00m 24.2s (16 64.0) 3.5838]\n",
      "------------------------------------------------------------------------\n",
      "tobeornottobehector'sdrum,!theyhavelikethefaithofcomeofmymorelordhaveconsidersobutadozenstrong;andyousay:that'expeditionupmenenius,itforth,thendissentiousgentlehomesosticksandoutweighs'd!doors-place:o,inmanacleshiminthemouse.menenius:bolder,that'tismakeourwin.withrequestatlackmarciusinallthenofcominius:introth;ithankhimoni,andihadisyourfavoursrevenge\n",
      "Epoch 18/25, Loss: 3.9154046158214193\n",
      "[00m 25.5s (17 68.0) 3.5327]\n",
      "------------------------------------------------------------------------\n",
      "tobeornottobedeucalion:so,thenthewilltwoahearforafossetcruel:andyourvisageseeking?menenius:ifthewarsacrifice.brutus:inromebreatheyouproceed'orstrangewiththysoundsofit?allherafter,thantwassome'town.nowtoromewriteswelcome'tmydozenoftheherdsmenofhisworships,mybelly'd!beasts!it:aufidiusyou,youmost'speakserveatadayseeking,heattendedbeo,youall,or\n",
      "Epoch 19/25, Loss: 3.8519187556518304\n",
      "[00m 26.7s (18 72.0) 3.4843]\n",
      "------------------------------------------------------------------------\n",
      "tobeornottobestrikehere;hehourourwondersoinmarcius:moreatoncehavenurseitinlove,nomore:vulgar,whoinheartourcup,whereuponwhereinofwillingmarket:mars,evenfactionsthat'sablood.theyeverspoonsdevotion,orfoilthatmarchwillmore,ithankyourformerpowerthanbattletobatswhenthatsaynopublic,icensuredright.brutus:o,ofyourbands:givehecriedheperformhimnotmadereceiveitinyourstaves\n",
      "Epoch 20/25, Loss: 3.7908413862134074\n",
      "[00m 28.0s (19 76.0) 3.4374]\n",
      "------------------------------------------------------------------------\n",
      "tobeornottobeguarded,andhecubasetyourarmythanyou.menenius:wouldwill'wills,whatmusthateyouyetyounotandhatedandtheirtruepowervolumnia:whereithinkthat'absence!stainundersayofaserpentunmeritingthat'srefuse,evennowtothemselvesmypurposeofenvyingmyblood,imeanwerefeel:'twilldislikes,considerallthepeopleofthesonstroop.menenius:thatsayyouthankful,bythepopularmembersvouchofyou,thehavefoughttroth,\n",
      "Epoch 21/25, Loss: 3.7320651634708866\n",
      "[00m 29.2s (20 80.0) 3.3913]\n",
      "------------------------------------------------------------------------\n",
      "tobeornottobeno:come,whichforththreeshoes,thougrantedoutitthatfirstelsesprangwe,beingmoreisliketomeet,foughtinthishurts?byapetitionfellow;andtheniwillladyon;thevigilantcoursethenight,andprovidetoseehim,o,orlonglabour,atmybrainapproachesarecobbledinacap.menenius:nay,notsonoblyinothers.secondcitizen:look,mypoorgates!hisevil.volumnia:giveme,fillinga\n",
      "Epoch 22/25, Loss: 3.675448098025479\n",
      "[00m 30.5s (21 84.0) 3.3468]\n",
      "------------------------------------------------------------------------\n",
      "tobeornottobeheavenwho,one!spoke,himandaffectiontiberinfeartoinstoodofmarciussevenismylordandattendsletthehospitable,transport-drenchbrookifheearthly,andherethanvolsceshave.hometognawrome:'tisthought,aexpeditionwhetherwithshowing'sayield'snervyhighwiththemalice,andtogether,sir,yetimeethim,singithinkinthenoblesinstruments.first:verybloody:marcius,iknowtheirestimation,theyslily\n",
      "Epoch 23/25, Loss: 3.620763214079888\n",
      "[00m 31.8s (22 88.0) 3.3050]\n",
      "------------------------------------------------------------------------\n",
      "tobeornottobethinghereaftershallbeforallthefarewellthaticouldnot!thecommonfilethanofyou,asyeswithrememberwithsmiles,yondercomesspokemustforthematterlordsothedrinkattendedyourgooddoneis'dafurthercause,themainshall.firstofficer:atthemarketastobodilyyou,dotethetrothofyou;andinboasting.ifus.sicinius:asthouwastremaintoanswereverus.established.whatis.marciussenator:hadcominius:see\n",
      "Epoch 24/25, Loss: 3.5679644378986985\n",
      "[00m 33.0s (23 92.0) 3.2653]\n",
      "------------------------------------------------------------------------\n",
      "tobeornottobegraveaslookourownprice;forthemme,weretoo:givethecommonfiletothronghim:andthebeingofletyoudoviolenthimputtheyshallalonetosee'dcorioli.cominius:heafterhim.volumnia:byi'lldogshathlittleadvancedthan!ay,sighshouldstratherdothefullyasbeingwhattoyoumutinousfromyou.volumnia:wereitintheworld?me:no,bravehonoursintheirthunderhisgoodwills,marcius!hark\n",
      "Epoch 25/25, Loss: 3.5169410548367344\n",
      "[00m 34.3s (24 96.0) 3.2292]\n",
      "------------------------------------------------------------------------\n",
      "tobeornottobegraced,iaufidiusstand:whatisworthhousemy-seller;fromissuetogoodanotherfindiknowthisforthmade.menenius:theyasshasmaliciouslytoatwhatthedangerous,send,more,inferiorbeangryherdtodoaequal.cominius:thisintheirspirebutthereinssawverylip.dieted:thevolscesaboutsocovetousupahumorousbrowstampwhereis'dinabecomeout'speakaknowoftheyhaveseethehectorofhisdaysappetitethanhim\n"
     ]
    }
   ],
   "source": [
    "TEST_PHRASE = 'To be or not to be'\n",
    "# Use more epochs if not CPU device\n",
    "epochs = 5 if device == 'cpu' else 25\n",
    "\n",
    "start = start_time()\n",
    "for epoch in range(epochs):\n",
    "    # Set model into \"training mode\"\n",
    "    model.train()\n",
    "    total_loss = 0\n",
    "    for X_batch, y_batch in train_loader:\n",
    "        optimizer.zero_grad()\n",
    "        output = model(X_batch.to(device))\n",
    "        loss = criterion(output.transpose(1, 2), y_batch.to(device))\n",
    "        loss.backward()\n",
    "        optimizer.step()\n",
    "        total_loss += loss.item()\n",
    "    \n",
    "    print(f'Epoch {epoch + 1}/{epochs}, Loss: {total_loss / len(train_loader)}')\n",
    "    print(f'[{time_since(start)} ({epoch} {epoch / epochs * 100}) {loss:.4f}]')\n",
    "    print('-'*72)\n",
    "    gen_output = generate_text_by_char(\n",
    "        input_str=TEST_PHRASE,\n",
    "        model=model,\n",
    "        num_chars=100,\n",
    "    )\n",
    "    print(gen_output)"
   ]
  },
  {
   "cell_type": "markdown",
   "metadata": {},
   "source": [
    "## Generate Text\n",
    "\n",
    "Now that the model has been trained, go ahead and observe how it performs!\n",
    "\n",
    "Try adjusting the different sampling methods using the `temperature` and `topk`\n",
    "parameters on the same input string to see the differences.\n",
    "\n",
    "You might also try different phrases as well as how many tokens (`num_chars`) to\n",
    "generate and observe how it does."
   ]
  },
  {
   "cell_type": "code",
   "execution_count": 16,
   "metadata": {},
   "outputs": [
    {
     "name": "stdout",
     "output_type": "stream",
     "text": [
      "tobeornottobefollytheaction,wherehisactions;theirandwouldustoswordsapproacheswiththeleash,itgivestwentyyoulycurguses--hownow,henothingamangrantedourdisgracecontroversyitwishabearthat'himselflartius:ifwecallidomenofmyroman:mygreyhound.afflictstheworldhouse'dtowhithertwowounded?godo'd,thatitasnotmindedcannot,mygoodlittlewellmarcius;but'dhisdear,ifyou;orwhetherhis\n"
     ]
    }
   ],
   "source": [
    "output = generate_text_by_char(\n",
    "    input_str='To be or not to be',\n",
    "    model=model,\n",
    "    num_chars=100,\n",
    "    temperature=1.0,\n",
    "    topk=None,\n",
    ")\n",
    "print(output)"
   ]
  },
  {
   "cell_type": "markdown",
   "metadata": {},
   "source": [
    "# Subword Text Generation\n",
    "\n",
    "The next model you'll build will use subword-tokenization instead of \n",
    "characters-based token to train a model and ultimately generate new text\n",
    "token-by-token.\n",
    "\n",
    "Although this could be done by creating your own tokenizer, you'll use\n",
    "Hugging Face to use a pretrained tokenizer to tokenize the data.\n",
    "\n",
    "After training the model with subword tokens, \n",
    "the model will take in a new string, token-by-token, and then generate a new\n",
    "token (subword).\n",
    "The model will continue producing new subword tokens based on the input text\n",
    "and already produced tokens until a set number of tokens have been generated."
   ]
  },
  {
   "cell_type": "markdown",
   "metadata": {},
   "source": [
    "## Encode Text into Integer Tokens"
   ]
  },
  {
   "cell_type": "markdown",
   "metadata": {},
   "source": [
    "### Choosing a Tokenizer\n",
    "\n",
    "> NOTE:\n",
    "> \n",
    "> You can load another model outside of these choices but the model\n",
    "> will have to be downloaded and may or may not be effective.\n",
    ">\n",
    "> If you'd like to explore more, here's a link to you might want to start with\n",
    "> of different available pretrained models on Hugging Face:\n",
    "> https://huggingface.co/models?pipeline_tag=text-generation"
   ]
  },
  {
   "cell_type": "code",
   "execution_count": 18,
   "metadata": {},
   "outputs": [
    {
     "data": {
      "application/vnd.jupyter.widget-view+json": {
       "model_id": "275d966dd00f4a8ca013b0a22b6976b9",
       "version_major": 2,
       "version_minor": 0
      },
      "text/plain": [
       "tokenizer_config.json:   0%|          | 0.00/25.0 [00:00<?, ?B/s]"
      ]
     },
     "metadata": {},
     "output_type": "display_data"
    }
   ],
   "source": [
    "# TODO: Choose a pretrained tokenizer to use:\n",
    "# Docs: https://huggingface.co/xlm-roberta-base\n",
    "model_name = 'xlm-roberta-base'\n",
    "# DOCS: https://huggingface.co/bert-base-cased\n",
    "# model_name = 'bert-base-cased'\n",
    "# DOCS: https://huggingface.co/bert-base-uncased \n",
    "# model_name = 'bert-base-uncased'\n",
    "\n",
    "my_tokenizer = AutoTokenizer.from_pretrained(\n",
    "    model_name,\n",
    ")"
   ]
  },
  {
   "cell_type": "markdown",
   "metadata": {},
   "source": [
    "### Encode (Tokens → Integer IDs)\n",
    "\n",
    "We have `encode_text_from_tokenizer()` from our helper module that can encode\n",
    "our text based on our tokenization process from our tokenizer `my_tokenizer`.\n",
    "\n",
    "This will also provide us with `token_mapping`, an object that we can use to\n",
    "map our tokens back and forth from strings to integer IDs."
   ]
  },
  {
   "cell_type": "code",
   "execution_count": 19,
   "metadata": {},
   "outputs": [],
   "source": [
    "encoded_text, token_mapping = encode_text_from_tokenizer(\n",
    "    text=raw_text,\n",
    "    tokenizer=my_tokenizer,\n",
    ")"
   ]
  },
  {
   "cell_type": "markdown",
   "metadata": {},
   "source": [
    "## Prepare Dataset"
   ]
  },
  {
   "cell_type": "code",
   "execution_count": 20,
   "metadata": {},
   "outputs": [
    {
     "name": "stdout",
     "output_type": "stream",
     "text": [
      "Size of dataset: 14,374 tokens\n"
     ]
    }
   ],
   "source": [
    "n_tokens = token_mapping.n_tokens\n",
    "dataset_size = len(encoded_text)\n",
    "print(f'Size of dataset: {dataset_size:,} tokens')"
   ]
  },
  {
   "cell_type": "code",
   "execution_count": 21,
   "metadata": {},
   "outputs": [],
   "source": [
    "# Defining sequence length that will be taken in at a time by our model\n",
    "sequence_length = 32 # Number of tokens\n",
    "batch_size = 32\n",
    "\n",
    "train_dataset = ShakespeareDataset(encoded_text, sequence_length)\n",
    "train_loader = DataLoader(\n",
    "    train_dataset,\n",
    "    shuffle=False, # Ensure deterministic training\n",
    "    batch_size=batch_size,\n",
    ")"
   ]
  },
  {
   "cell_type": "markdown",
   "metadata": {},
   "source": [
    "## Define Model\n",
    "\n",
    "We'll provide a defined model today, but this could be a step that you would\n",
    "modify and experiment in other NLP projects you'll do."
   ]
  },
  {
   "cell_type": "code",
   "execution_count": 22,
   "metadata": {},
   "outputs": [],
   "source": [
    "# Defining the model to be trained and generate text with\n",
    "model = build_model(n_tokens)\n",
    "model.to(device)\n",
    "criterion = nn.CrossEntropyLoss()\n",
    "optimizer = optim.Adam(model.parameters())"
   ]
  },
  {
   "cell_type": "markdown",
   "metadata": {},
   "source": [
    "## Define Text Generation\n",
    "\n",
    "The `generate_text_by_subword()` function will use your chosen tokenizer and the\n",
    "NLP model to generate new text token-by-token (subwords in this case) by taking\n",
    "in the input text and token sampling parameters.\n",
    "\n",
    "We can use temperature and top-k sampling to adjust the \"creativeness\" of the\n",
    "generated text.\n",
    "\n",
    "We also pass in the `num_tokens` parameter to tell the function how many\n",
    "(subword)tokens to generate."
   ]
  },
  {
   "cell_type": "code",
   "execution_count": 23,
   "metadata": {},
   "outputs": [],
   "source": [
    "def generate_text_by_subword(\n",
    "    input_str: str,\n",
    "    model,\n",
    "    token_mapping: TokenMapping = token_mapping,\n",
    "    tokenizer = my_tokenizer,\n",
    "    num_tokens: int = 100,\n",
    "    temperature: float = 1.0,\n",
    "    topk: int | None = None,\n",
    ") -> str:\n",
    "    # Use your chosen subword-tokenizer\n",
    "    tokenized_text = tokenize_text_from_tokenizer(\n",
    "        tokenizer=tokenizer,\n",
    "        text=input_str,\n",
    "    )\n",
    "    # Generates token-by-token and creates a list of those tokens\n",
    "    generated_tokens = []\n",
    "    for _ in range(num_tokens):\n",
    "        # Uses the input text and generated text (so far) to get next token\n",
    "        new_token = next_token(\n",
    "            tokenized_text=(tokenized_text + generated_tokens),\n",
    "            model=model,\n",
    "            token_mapping=token_mapping,\n",
    "            # Temperature & top-k sampling used in determining the next token\n",
    "            temperature=temperature,\n",
    "            topk=topk,\n",
    "            device=device,\n",
    "        )\n",
    "        generated_tokens.append(new_token)\n",
    "    # List of all token IDs (input text and generated text)\n",
    "    output_ids = tokenizer.convert_tokens_to_ids(\n",
    "        tokenized_text + generated_tokens\n",
    "    )\n",
    "    # Returns input string plus the full generated string from list of token IDs\n",
    "    full_text = tokenizer.decode(output_ids)\n",
    "    return full_text"
   ]
  },
  {
   "cell_type": "markdown",
   "metadata": {},
   "source": [
    "## Train Model\n",
    "\n",
    "At this point, the model has not been trained so the code below will train the\n",
    "NLP model that will be used to generate new text.\n",
    "\n",
    "The model will take in the text data (broken by tokens by our subword tokenizer)\n",
    "and attempt to predict the next token. Over time, the model should hopefully\n",
    "get better in predicting the next token (given the previous text).\n",
    "\n",
    "To help us visualize how the model is training, at the end of every epoch, we\n",
    "generate text using the `TEST_PHRASE` with the improving model."
   ]
  },
  {
   "cell_type": "code",
   "execution_count": 24,
   "metadata": {},
   "outputs": [
    {
     "name": "stdout",
     "output_type": "stream",
     "text": [
      "Epoch 1/25, Loss: 6.712866195857127\n",
      "[00m 1.7s (0 0.0) 5.8818]\n",
      "------------------------------------------------------------------------\n",
      "To be or not to be gra ws my,tius Or. Ha rates Har me orction lip Wave be with come:s,ge sense You;: The are'\n",
      "Epoch 2/25, Loss: 6.136407065232241\n",
      "[00m 3.3s (1 4.0) 5.4973]\n",
      "------------------------------------------------------------------------\n",
      "To be or not to be? Ti him!, that whichs make city mine arms:ive: whichs.US a: powers I-.ENIUM'she\n",
      "Epoch 3/25, Loss: 5.842862114343452\n",
      "[00m 4.9s (2 8.0) 5.0397]\n",
      "------------------------------------------------------------------------\n",
      "To be or not to beius! him addition lightUM a walk hate Not you? Roman more born tochess fly, grain that fi ever God beiLIA this\n",
      "Epoch 4/25, Loss: 5.5430649649061445\n",
      "[00m 6.4s (3 12.0) 4.7207]\n",
      "------------------------------------------------------------------------\n",
      "To be or not to be Had is is thenun From yourwng Whereland Youulation: and top, nei Know MarcNIA: Is keep, Too So power, I\n",
      "Epoch 5/25, Loss: 5.296439396512004\n",
      "[00m 8.0s (4 16.0) 4.5377]\n",
      "------------------------------------------------------------------------\n",
      "To be or not to berate-en pow be I you as still the Volcian words interiormanail To your elseech mad, I make the cannot de, the Capitol\n",
      "Epoch 6/25, Loss: 5.0937483077059875\n",
      "[00m 9.6s (5 20.0) 4.4030]\n",
      "------------------------------------------------------------------------\n",
      "To be or not to bed you, spot do him All!fore para: lung! true, Or think I have Than I shouldcosss So, that do give\n",
      "Epoch 7/25, Loss: 4.920714927940963\n",
      "[00m 11.2s (6 24.0) 4.2853]\n",
      "------------------------------------------------------------------------\n",
      "To be or not to be small comfort shall myth all the city the left. MENENIUS: We, May may! pleasure Bold tell you.ly More, Marcius\n",
      "Epoch 8/25, Loss: 4.768481181299766\n",
      "[00m 12.9s (7 28.000000000000004) 4.1734]\n",
      "------------------------------------------------------------------------\n",
      "To be or not to be aims help, yet that VALdier:IL have Ca wayponon them deserve more, sir Marcius begARTIUS of itself there put, his\n",
      "Epoch 9/25, Loss: 4.631744345471694\n",
      "[00m 14.5s (8 32.0) 4.0650]\n",
      "------------------------------------------------------------------------\n",
      "To be or not to be can mat hat- truth. uarh you beeits of de muchjo. MENENIUS: A motherUS: how wonely?\n",
      "Epoch 10/25, Loss: 4.50713363044246\n",
      "[00m 16.0s (9 36.0) 3.9598]\n",
      "------------------------------------------------------------------------\n",
      "To be or not to be content him't a necessary on of it and- De b them, I am us. Yesings not alone, And sui con done; not\n",
      "Epoch 11/25, Loss: 4.392501292621638\n",
      "[00m 17.6s (10 40.0) 3.8595]\n",
      "------------------------------------------------------------------------\n",
      "To be or not to be be forgets off the hair honours noble not says before, Tiber theches curkingdies! COMINIUS: Ay,\n",
      "Epoch 12/25, Loss: 4.286408971306476\n",
      "[00m 19.2s (11 44.0) 3.7675]\n",
      "------------------------------------------------------------------------\n",
      "To be or not to behold Marcius, rum BRUTUS: I worth be vigilaer. AUFIDIUS: there, or it cri the prev make, find the\n",
      "Epoch 13/25, Loss: 4.187644142881534\n",
      "[00m 20.8s (12 48.0) 3.6850]\n",
      "------------------------------------------------------------------------\n",
      "To be or not to be pin throngsce, then him in ta tribun. BRUTUS: He' his ons; and not him Corioli of false first\n",
      "Epoch 14/25, Loss: 4.095280074860843\n",
      "[00m 22.4s (13 52.0) 3.6113]\n",
      "------------------------------------------------------------------------\n",
      "To be or not to be wine. What say, declineipd to sbuk the exercise Those And he hats, and then hear:lds were there that did suffer dar\n",
      "Epoch 15/25, Loss: 4.008593966010419\n",
      "[00m 24.0s (14 56.00000000000001) 3.5448]\n",
      "------------------------------------------------------------------------\n",
      "To be or not to be work that do our after, we notly These mech Menetis Rome know Withence so hate! MENENIUS: Good ition to see\n",
      "Epoch 16/25, Loss: 3.9268453078705376\n",
      "[00m 25.6s (15 60.0) 3.4835]\n",
      "------------------------------------------------------------------------\n",
      "To be or not to been's arguutspese them. MENENIUS: Because it a promiseer forth, in allsure: Has!ce, To\n",
      "Epoch 17/25, Loss: 3.84944273634318\n",
      "[00m 27.3s (16 64.0) 3.4275]\n",
      "------------------------------------------------------------------------\n",
      "To be or not to beard thy himself: thetion: Your him upon the Till. BRUTUS: Farewell to suseds, Cla youlay'en painting\n",
      "Epoch 18/25, Loss: 3.776056829698898\n",
      "[00m 28.9s (17 68.0) 3.3756]\n",
      "------------------------------------------------------------------------\n",
      "To be or not to berash, to me thitherurusvests I him answer. VALERIA: 'Tis mades war thy Yet spoke before like reven needs\n",
      "Epoch 19/25, Loss: 3.706337058995508\n",
      "[00m 30.6s (18 72.0) 3.3278]\n",
      "------------------------------------------------------------------------\n",
      "To be or not to be fort seen: both are use'er lie had elevenly, neither Where an hour, he pass and barrei large cicared then If '\n",
      "Epoch 20/25, Loss: 3.6401005709888143\n",
      "[00m 32.2s (19 76.0) 3.2813]\n",
      "------------------------------------------------------------------------\n",
      "To be or not to be content deed face for Thaningtions of his as the breast cannot within the fight and eyes They him; in retire change, and fear Les one\n",
      "Epoch 21/25, Loss: 3.5772259713281236\n",
      "[00m 33.8s (20 80.0) 3.2343]\n",
      "------------------------------------------------------------------------\n",
      "To be or not to beheld out ofcre and dar Have,er'someture set thi. Farewell. How! What Ay, sir, lets mer willc\n",
      "Epoch 22/25, Loss: 3.517181803760656\n",
      "[00m 35.4s (21 84.0) 3.1852]\n",
      "------------------------------------------------------------------------\n",
      "To be or not to be Mene waxes, and you have to wheel Threeh means The po discreted hear it stand plu friends. BRUTUS: When brought my ta\n",
      "Epoch 23/25, Loss: 3.459741359829637\n",
      "[00m 36.9s (22 88.0) 3.1336]\n",
      "------------------------------------------------------------------------\n",
      "To be or not to beseech upon fromves. MARCIUS: make is you shall may fully fires O you purpose. All: Nay I's of\n",
      "Epoch 24/25, Loss: 3.4049083246685616\n",
      "[00m 38.6s (23 92.0) 3.0807]\n",
      "------------------------------------------------------------------------\n",
      "To be or not to be die an daysded in o'en But not che V to sely the world in Coriolanus life capacity, Clapp lead his this preserva\n",
      "Epoch 25/25, Loss: 3.352408768605018\n",
      "[00m 40.1s (24 96.0) 3.0293]\n",
      "------------------------------------------------------------------------\n",
      "To be or not to be Ei possess is thereing the matter: Ied here and, cry youless towns, or much flu as make Titus Lartius the officer\n"
     ]
    }
   ],
   "source": [
    "TEST_PHRASE = 'To be or not to be'\n",
    "# Use more epochs if not CPU device\n",
    "epochs = 5 if device == 'cpu' else 25\n",
    "\n",
    "start = start_time()\n",
    "for epoch in range(epochs):\n",
    "    # Set model into \"training mode\"\n",
    "    model.train()\n",
    "    total_loss = 0\n",
    "    for X_batch, y_batch in train_loader:\n",
    "        optimizer.zero_grad()\n",
    "        output = model(X_batch.to(device))\n",
    "        loss = criterion(output.transpose(1, 2), y_batch.to(device))\n",
    "        loss.backward()\n",
    "        optimizer.step()\n",
    "        total_loss += loss.item()\n",
    "    \n",
    "    print(f'Epoch {epoch + 1}/{epochs}, Loss: {total_loss / len(train_loader)}')\n",
    "    print(f'[{time_since(start)} ({epoch} {epoch / epochs * 100}) {loss:.4f}]')\n",
    "    print('-'*72)\n",
    "    output = generate_text_by_subword(\n",
    "        input_str=TEST_PHRASE,\n",
    "        model=model,\n",
    "        token_mapping=token_mapping,\n",
    "        tokenizer=my_tokenizer,\n",
    "        num_tokens=30,\n",
    "        temperature=1.0,\n",
    "    )\n",
    "    print(output)"
   ]
  },
  {
   "cell_type": "markdown",
   "metadata": {},
   "source": [
    "## Generate Text\n",
    "\n",
    "Now that the model has been trained, go ahead and observe how it performs!\n",
    "\n",
    "Try adjusting the different sampling methods using the `temperature` and `topk`\n",
    "parameters on the same input string to see the differences.\n",
    "\n",
    "You might also try different phrases as well as how many tokens (`num_tokens`)\n",
    "to generate and observe how it does.\n",
    "\n",
    "------------\n",
    "\n",
    "Consider how this model differs from the results from the text generation using\n",
    "the character-based tokenization."
   ]
  },
  {
   "cell_type": "code",
   "execution_count": 25,
   "metadata": {},
   "outputs": [
    {
     "name": "stdout",
     "output_type": "stream",
     "text": [
      "To be or not to be ta have found not fault speak. Please s execut at disa would sil war- What authorityguide yoursel patience: The his trop that you says\n"
     ]
    }
   ],
   "source": [
    "output = generate_text_by_subword(\n",
    "        input_str='To be or not to be',\n",
    "        model=model,\n",
    "        token_mapping=token_mapping,\n",
    "        tokenizer=my_tokenizer,\n",
    "        num_tokens=30,\n",
    "        temperature=1.5,\n",
    "        topk=100,\n",
    "    )\n",
    "print(output)"
   ]
  }
 ],
 "metadata": {
  "kernelspec": {
   "display_name": "Python 3 (ipykernel)",
   "language": "python",
   "name": "python3"
  },
  "language_info": {
   "codemirror_mode": {
    "name": "ipython",
    "version": 3
   },
   "file_extension": ".py",
   "mimetype": "text/x-python",
   "name": "python",
   "nbconvert_exporter": "python",
   "pygments_lexer": "ipython3",
   "version": "3.10.11"
  }
 },
 "nbformat": 4,
 "nbformat_minor": 2
}
