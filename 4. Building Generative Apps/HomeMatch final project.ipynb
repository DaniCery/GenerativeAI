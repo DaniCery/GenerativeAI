{
 "cells": [
  {
   "cell_type": "markdown",
   "id": "a108af04",
   "metadata": {},
   "source": [
    "This is a starter notebook for the project, you'll have to import the libraries you'll need, you can find a list of the ones available in this workspace in the requirements.txt file in this workspace. "
   ]
  },
  {
   "cell_type": "code",
   "execution_count": 1,
   "id": "4c9b0d11",
   "metadata": {},
   "outputs": [],
   "source": [
    "!pip install --upgrade sentence-transformers huggingface_hub --quiet\n",
    "!pip install langchain_openai --quiet\n",
    "!pip install langchain_community --quiet\n",
    "!pip install langchain_openai --quiet\n",
    "!pip install langchain_chroma --quiet"
   ]
  },
  {
   "cell_type": "code",
   "execution_count": 2,
   "id": "6554fd4c",
   "metadata": {},
   "outputs": [],
   "source": [
    "import os\n",
    "\n",
    "os.environ[\"OPENAI_API_KEY\"] = \"voc-32034342212667733781206696e1b8b3b604.60383220\"\n",
    "os.environ[\"OPENAI_API_BASE\"] = \"https://openai.vocareum.com/v1\"\n",
    "\n",
    "import langchain\n",
    "import openai\n",
    "import chromadb"
   ]
  },
  {
   "cell_type": "markdown",
   "id": "09a9ac33",
   "metadata": {},
   "source": [
    "### Generate random listings with gpt"
   ]
  },
  {
   "cell_type": "code",
   "execution_count": 3,
   "id": "bb35728e",
   "metadata": {},
   "outputs": [],
   "source": [
    "# 1st method: for simple one line instructions\n",
    "\n",
    "#user_prompt = \"Generate 20 real estate listings with Neighborhood name, Price, Bedrooms, Bathrooms, House Size, House Description, Neighborhood Description, using a good format\"\n",
    "#model = \"gpt-3.5-turbo-instruct\"  #  to explicit instructions \n",
    "#response = openai.Completion.create(model = model, \n",
    "#                                    prompt=user_prompt,\n",
    "#                                    max_tokens= 1500).choices[0].text.strip()"
   ]
  },
  {
   "cell_type": "code",
   "execution_count": 4,
   "id": "9bbab608",
   "metadata": {},
   "outputs": [],
   "source": [
    "user_prompt = \"\"\"\n",
    "    Generate 10 real estate listings like this but with different data and descriptions, \n",
    "    the variety of the data can be broad but must have logic (for example more expensive for higher features). \n",
    "    Bathrooms can range from 1 to 2, Bedrooms can range from 1 to 4 as integers.\n",
    "    House Size can range from 600 to 2500 sqft\n",
    "    Besides, each listing must be separated by \"\\n===\"\n",
    "\n",
    "Neighborhood: Green Oaks\n",
    "Price: $800,000\n",
    "Bedrooms: 3\n",
    "Bathrooms: 2\n",
    "House Size: 2,000 sqft\n",
    "\n",
    "Description: Welcome to this eco-friendly oasis nestled in the heart of Green Oaks. This charming 3-bedroom, 2-bathroom home boasts energy-efficient features such as solar panels and a well-insulated structure. Natural light floods the living spaces, highlighting the beautiful hardwood floors and eco-conscious finishes. The open-concept kitchen and dining area lead to a spacious backyard with a vegetable garden, perfect for the eco-conscious family. Embrace sustainable living without compromising on style in this Green Oaks gem.\n",
    "\n",
    "Neighborhood Description: Green Oaks is a close-knit, environmentally-conscious community with access to organic grocery stores, community gardens, and bike paths. Take a stroll through the nearby Green Oaks Park or grab a cup of coffee at the cozy Green Bean Cafe. With easy access to public transportation and bike lanes, commuting is a breeze.\n",
    "\n",
    "Please generate ten (10) of such listings.\n",
    "\"\"\"\n",
    "model = \"gpt-3.5-turbo\" "
   ]
  },
  {
   "cell_type": "code",
   "execution_count": 5,
   "id": "7ea0d71f",
   "metadata": {},
   "outputs": [],
   "source": [
    "# 2nd method: to use multiline prompt (ideal for format output example BUT IT CREATES COMPATIBILITY PROBLEMS WITH LANGCHAIN.OPENAI)\n",
    "#messages = []\n",
    "#messages.append({\"role\":\"system\", \"content\":\"you are an expert of real estate\"})\n",
    "#messages.append({\"role\": \"user\", \"content\": user_prompt})\n",
    "\n",
    "#response = openai.ChatCompletion.create(model = model, \n",
    "#                                messages=messages,\n",
    "#                                #max_tokens= 500,\n",
    "#                                temperature = 1).choices[0].message['content']"
   ]
  },
  {
   "cell_type": "code",
   "execution_count": 6,
   "id": "4f5844bb",
   "metadata": {},
   "outputs": [
    {
     "name": "stdout",
     "output_type": "stream",
     "text": [
      "Neighborhood: Lakeview Heights\n",
      "Price: $650,000\n",
      "Bedrooms: 2\n",
      "Bathrooms: 1\n",
      "House Size: 1,200 sqft\n",
      "\n",
      "Description: Enjoy panoramic views of the lake from this cozy 2-bedroom, 1-bathroom cottage in Lakeview Heights. This charming home features a spacious deck overlooking the water, perfect for morning coffee or evening sunsets. The open living area with a fireplace creates a warm and inviting atmosphere, ideal for relaxation or entertaining. With its serene setting and lake access, this home is a peaceful retreat from city life.\n",
      "\n",
      "Neighborhood Description: Lakeview Heights is a picturesque lakeside community known for its tranquil and laid-back atmosphere. Residents can enjoy water activities such as boating and fishing, as well as hiking and biking trails in the surrounding natural areas. Local restaurants and cafes offer a taste of lakeside living, making it a desirable location for those seeking a peaceful getaway.\n",
      "\n",
      "===\n",
      "Neighborhood: Pinecrest Estates\n",
      "Price: $1,200,000\n",
      "Bedrooms: 4\n",
      "Bathrooms: 2\n",
      "House Size: 2,500 sqft\n",
      "\n",
      "Description: This stunning 4-bedroom, 2-bathroom home in Pinecrest Estates offers luxury living with a touch of nature. The spacious layout includes a gourmet kitchen, formal dining room, and a cozy family room with a fireplace. The master suite features a spa-like bathroom and a private balcony overlooking the lush backyard. Outdoor amenities include a pool, hot tub, and manicured gardens, perfect for outdoor entertaining and relaxation.\n",
      "\n",
      "Neighborhood Description: Pinecrest Estates is an exclusive gated community known for its upscale homes and lush landscapes. Residents can enjoy private parks, tennis courts, and walking trails within the neighborhood. With easy access to top-rated schools and upscale shopping centers, Pinecrest Estates offers a luxurious lifestyle in a prestigious setting.\n",
      "\n",
      "===\n",
      "Neighborhood: Maple Grove\n",
      "Price: $500,000\n",
      "Bedrooms: 3\n",
      "Bathrooms: 1\n",
      "House Size: 1,400 sqft\n",
      "\n",
      "Description: Welcome home to this charming 3-bedroom, 1-bathroom bungalow in the heart of Maple Grove. The open-concept living area features a bright and airy atmosphere with hardwood floors and a cozy fireplace. The updated kitchen boasts stainless steel appliances and ample storage space. Relax on the spacious deck overlooking the private backyard, perfect for summer bbqs and outdoor gatherings. This home is ideal for first-time buyers or those looking to downsize in a family-friendly neighborhood.\n",
      "\n",
      "Neighborhood Description: Maple Grove is a vibrant community with tree-lined streets and close proximity to parks, schools, and local shops. Residents can enjoy picnics at the nearby Maple Grove Park or browse the boutiques and cafes in the charming downtown area. With easy access to public transportation and highways, Maple Grove offers convenience and a sense of community for all its residents. \n",
      "\n",
      "===\n",
      "Neighborhood: Cedar Hills\n",
      "Price: $900,000\n",
      "Bedrooms: 4\n",
      "Bathrooms: 2\n",
      "House Size: 2,300 sqft\n",
      "\n",
      "Description: Step into luxury with this 4-bedroom, 2-bathroom modern home in Cedar Hills. The open-concept layout features high ceilings, oversized windows, and designer finishes throughout. The gourmet kitchen is a chef's dream with top-of-the-line appliances and a large island for entertaining. The master suite boasts a spa-like ensuite and walk-in closet, while the backyard oasis includes a covered patio, fire pit, and landscaped gardens. Experience sophistication and style in this contemporary Cedar Hills residence.\n",
      "\n",
      "Neighborhood Description: Cedar Hills is an upscale neighborhood known for its upscale homes, prestigious schools, and lush green spaces. Residents can enjoy outdoor activities at the nearby Cedar Hills Park or dine at the trendy restaurants and cafes in the bustling town center. With easy access to freeways and public transportation, Cedar Hills offers a convenient location for those seeking a luxurious lifestyle. \n",
      "\n",
      "===\n",
      "Neighborhood: Oakridge Estates\n",
      "Price: $750,000\n",
      "Bedrooms: 2\n",
      "Bathrooms: 1\n",
      "House Size: 1,600 sqft\n",
      "\n",
      "Description: Nestled in the exclusive Oakridge Estates, this 2-bedroom, 1-bathroom cottage offers a tranquil escape from city life. The open living area features vaulted ceilings, exposed beams, and a cozy wood-burning stove. The kitchen boasts custom cabinets, granite countertops, and a breakfast bar. Relax on the expansive deck surrounded by mature trees and nature, perfect for outdoor dining and entertaining. This home is a hidden gem for those seeking privacy and serenity.\n",
      "\n",
      "Neighborhood Description: Oakridge Estates is a prestigious community known for its spacious estates, wooded lots, and private amenities. Residents can enjoy hiking trails, tennis courts, and a private lake for fishing and boating. With its secluded location and proximity to upscale shopping and dining, Oakridge Estates offers a luxurious retreat for those looking to escape the hustle and bustle of city life. \n",
      "\n",
      "===\n",
      "Neighborhood: Riverside Terrace\n",
      "Price: $550,000\n",
      "Bedrooms: 3\n",
      "Bathrooms: 1\n",
      "House Size: 1,300 sqft\n",
      "\n",
      "Description: Welcome to this charming 3-bedroom, 1-bathroom home in Riverside Terrace. The cozy living room features a fireplace and large windows, filling the space with natural light. The eat-in kitchen offers stainless steel appliances and a breakfast nook overlooking the backyard. The outdoor patio is perfect for summer barbecues and al fresco dining. This home is ideal for a growing family or those looking for a peaceful retreat by the river.\n",
      "\n",
      "Neighborhood Description: Riverside Terrace is a riverside community known for its scenic views, mature trees, and outdoor recreation opportunities. Residents can enjoy kayaking, fishing, and picnicking along the riverbank, as well as biking and hiking trails in the surrounding natural areas. With easy access to local schools, parks, and shopping centers, Riverside Terrace offers a laid-back lifestyle with a strong sense of community. \n",
      "\n",
      "===\n",
      "Neighborhood: Sunset Heights\n",
      "Price: $850,000\n",
      "Bedrooms: 4\n",
      "Bathrooms: 2\n",
      "House Size: 2,100 sqft\n",
      "\n",
      "Description: Enjoy breathtaking mountain views from this 4-bedroom, 2-bathroom home in Sunset Heights. The spacious layout features a formal living and dining area with vaulted ceilings, ideal for entertaining. The updated kitchen boasts granite countertops, stainless steel appliances, and a breakfast bar. The master suite offers a walk-in closet, ensuite bathroom, and access to a private deck with panoramic views. Outdoor amenities include a fenced yard, patio, and garden beds for outdoor enjoyment.\n",
      "\n",
      "Neighborhood Description: Sunset Heights is a scenic hillside community known for its panoramic views, quiet streets, and access to outdoor activities. Residents can explore hiking trails, parks, and outdoor markets in the nearby town center. With its close-knit community and family-friendly atmosphere, Sunset Heights offers a peaceful retreat for those looking to escape the hustle and bustle of the city. \n",
      "\n",
      "===\n",
      "Neighborhood: Pineview Village\n",
      "Price: $600,000\n",
      "Bedrooms: 2\n",
      "Bathrooms: 1\n",
      "House Size: 1,500 sqft\n",
      "\n",
      "Description: Step into this charming 2-bedroom, 1-bathroom cottage in Pineview Village. The cozy living room features a stone fireplace, hardwood floors, and French doors leading to a private patio. The kitchen offers quartz countertops, stainless steel appliances, and a breakfast nook overlooking the landscaped yard. The outdoor space includes a fire pit, garden beds, and a detached studio, perfect for a home office or guest quarters. This home is a peaceful oasis for those seeking a retreat in a quaint village setting.\n",
      "\n",
      "Neighborhood Description: Pineview Village is a picturesque community known for its tree-lined streets, historic homes, and local boutiques. Residents can enjoy strolling through the village square, visiting the farmers market, or dining at the charming cafes and restaurants. With its small-town charm and close-knit community, Pineview Village offers a relaxed and inviting atmosphere for residents of all ages. \n",
      "\n",
      "===\n",
      "Neighborhood: Willow Creek Estates\n",
      "Price: $950,000\n",
      "Bedrooms: 3\n",
      "Bathrooms: 2\n",
      "House Size: 2,400 sqft\n",
      "\n",
      "Description: Experience luxury living in this 3-bedroom, 2-bathroom home in Willow Creek Estates. The open-concept layout features soaring ceilings, a gourmet kitchen with high-end appliances, and a spacious family room with a fireplace. The master suite offers a private retreat with a spa-like ensuite and walk-in closet. Outdoor amenities include a covered patio, pool, and landscaped gardens, perfect for outdoor entertaining and relaxation. This home is an oasis of comfort and elegance for those seeking a premium living experience.\n",
      "\n",
      "Neighborhood Description: Willow Creek Estates is an upscale gated community known for its prestigious homes, private amenities, and manicured landscapes. Residents can enjoy tennis courts, walking trails, and social events within the neighborhood, as well as easy access to top-rated schools and shopping centers. With its secluded location and luxury amenities, Willow Creek Estates offers a sophisticated lifestyle for those looking to live in style. \n",
      "\n",
      "===\n"
     ]
    }
   ],
   "source": [
    "from langchain_openai import ChatOpenAI\n",
    "\n",
    "response = ChatOpenAI(\n",
    "    model=model,\n",
    "    temperature=1,\n",
    "    max_tokens=3000,\n",
    "    timeout=1000,\n",
    "    max_retries=2\n",
    ").invoke(user_prompt)\n",
    "print(response.content)"
   ]
  },
  {
   "cell_type": "markdown",
   "id": "ac5e1277",
   "metadata": {},
   "source": [
    "### Save documentation"
   ]
  },
  {
   "cell_type": "code",
   "execution_count": 7,
   "id": "6d139cc1",
   "metadata": {},
   "outputs": [],
   "source": [
    "# Save listings into txt\n",
    "with open(\"Listings.txt\", 'w') as file:\n",
    "    file.write(response.content)"
   ]
  },
  {
   "cell_type": "code",
   "execution_count": 8,
   "id": "cc15a6a0",
   "metadata": {},
   "outputs": [],
   "source": [
    "README = \"\"\"\n",
    "        The notebook creates a Real Estate Agent simulating 5 questions asked by AI and 5 answers given by User.\n",
    "        At the start the OpenAI api is called to produce 10 fictional listings and are stored in a vector database.\n",
    "        Then, the answers and questions are used to create the context to retrieve the best match from db \n",
    "        and reply to the user in a motivating manner.\n",
    "        During the run you will see different methodologies of chaining to accomplish the task using langchain.\n",
    "        The last one uses also memory to store the messages and retrieving them back \n",
    "        to use them as a context, this would offer presumably more flexibility.\n",
    "        \n",
    "        Dependencies installed:\n",
    "        langchain\n",
    "        huggingface_hub\n",
    "        langchain_openai\n",
    "        langchain_community\n",
    "        langchain_openai\n",
    "        langchain_chroma\n",
    "        langchain_core\n",
    "        \n",
    "        Note: You may need to restart notebook twice for dependencies to be effective\n",
    "        \"\"\"\n",
    "# Save documentation file into txt\n",
    "with open(\"HomeMatchReadme.txt\", 'w') as file:\n",
    "    file.write(README)"
   ]
  },
  {
   "cell_type": "markdown",
   "id": "45e84f87",
   "metadata": {},
   "source": [
    "### Create vector database"
   ]
  },
  {
   "cell_type": "code",
   "execution_count": 9,
   "id": "57ab64ba",
   "metadata": {},
   "outputs": [
    {
     "name": "stdout",
     "output_type": "stream",
     "text": [
      "Neighborhood: Lakeview Heights\n",
      "Price: $650,000\n",
      "Bedrooms: 2\n",
      "Bathrooms: 1\n",
      "House Size: 1,200 sqft\n",
      "\n",
      "Description: Enjoy panoramic views of the lake from this cozy 2-bedroom, 1-bathroom cottage in Lakeview Heights. This charming home features a spacious deck overlooking the water, perfect for morning coffee or evening sunsets. The open living area with a fireplace creates a warm and inviting atmosphere, ideal for relaxation or entertaining. With its serene setting and lake access, this home is a peaceful retreat from city life.\n",
      "\n",
      "Neighborhood Description: Lakeview Heights is a picturesque lakeside community known for its tranquil and laid-back atmosphere. Residents can enjoy water activities such as boating and fishing, as well as hiking and biking trails in the surrounding natural areas. Local restaurants and cafes offer a taste of lakeside living, making it a desirable location for those seeking a peaceful getaway.\n",
      "\n",
      "\n"
     ]
    }
   ],
   "source": [
    "# Note: no need to use CharacterTextSplitter\n",
    "\n",
    "text_list = response.content.split(\"===\")\n",
    "\n",
    "# let's see the first listing\n",
    "print(text_list[0])"
   ]
  },
  {
   "cell_type": "code",
   "execution_count": 10,
   "id": "2ec90042",
   "metadata": {},
   "outputs": [],
   "source": [
    "from langchain.schema import Document\n",
    "\n",
    "# Convert list of strings into Document objects\n",
    "documents = [Document(page_content=text) for text in text_list]"
   ]
  },
  {
   "cell_type": "code",
   "execution_count": 11,
   "id": "f83fd7b1",
   "metadata": {},
   "outputs": [
    {
     "name": "stderr",
     "output_type": "stream",
     "text": [
      "/home/student/.local/lib/python3.10/site-packages/langchain_core/_api/deprecation.py:139: LangChainDeprecationWarning: The class `OpenAIEmbeddings` was deprecated in LangChain 0.0.9 and will be removed in 0.3.0. An updated version of the class exists in the langchain-openai package and should be used instead. To use it run `pip install -U langchain-openai` and import as `from langchain_openai import OpenAIEmbeddings`.\n",
      "  warn_deprecated(\n"
     ]
    }
   ],
   "source": [
    "from langchain_community.embeddings import OpenAIEmbeddings\n",
    "embeddings = OpenAIEmbeddings()"
   ]
  },
  {
   "cell_type": "code",
   "execution_count": 12,
   "id": "98399167",
   "metadata": {},
   "outputs": [],
   "source": [
    "from langchain_chroma import Chroma #note: no need of lancedb because we don't have metadata like links of website or external related tables\n",
    "db = Chroma.from_documents(documents, embeddings)"
   ]
  },
  {
   "cell_type": "code",
   "execution_count": 13,
   "id": "a1970e18",
   "metadata": {},
   "outputs": [],
   "source": [
    "from langchain_openai import OpenAI\n",
    "llm = OpenAI(temperature=0)"
   ]
  },
  {
   "cell_type": "markdown",
   "id": "955482ae",
   "metadata": {},
   "source": [
    "## User preferences"
   ]
  },
  {
   "cell_type": "code",
   "execution_count": 14,
   "id": "bd83b133",
   "metadata": {},
   "outputs": [
    {
     "name": "stdout",
     "output_type": "stream",
     "text": [
      "How big do you want your house to be?What are 3 most important things for you in choosing this property?\n",
      "A comfortable three-bedroom house with a spacious kitchen and a cozy living room.\n",
      "Which amenities would you like?\n",
      "A quiet neighborhood, good local schools, and convenient shopping options.\n",
      "Which transportation options are important to you?\n",
      "A backyard for gardening, a two-car garage, and a modern, energy-efficient heating system.\n",
      "How urban do you want your neighborhood to be?\n",
      "Easy access to a reliable bus line, proximity to a major highway, and bike-friendly roads.\n"
     ]
    }
   ],
   "source": [
    "questions = [   \n",
    "                \"How big do you want your house to be?\" \n",
    "                \"What are 3 most important things for you in choosing this property?\", \n",
    "                \"Which amenities would you like?\", \n",
    "                \"Which transportation options are important to you?\",\n",
    "                \"How urban do you want your neighborhood to be?\",   \n",
    "            ]\n",
    "answers = [\n",
    "    \"A comfortable three-bedroom house with a spacious kitchen and a cozy living room.\",\n",
    "    \"A quiet neighborhood, good local schools, and convenient shopping options.\",\n",
    "    \"A backyard for gardening, a two-car garage, and a modern, energy-efficient heating system.\",\n",
    "    \"Easy access to a reliable bus line, proximity to a major highway, and bike-friendly roads.\",\n",
    "    \"A balance between suburban tranquility and access to urban amenities like restaurants and theaters.\"]\n",
    "\n",
    "#answers = []\n",
    "#for question in questions:\n",
    "#    answer = input(\"question\")\n",
    "#    context.append(zip(question, answers[question]))\n",
    "\n",
    "\n",
    "# let's pretend user answered to all 5 questions\n",
    "context = []\n",
    "for i in range(len(questions)):\n",
    "    context.append(questions[i])\n",
    "    context.append(answers[i])\n",
    "    \n",
    "context = '\\n'.join(context)\n",
    "print(context)"
   ]
  },
  {
   "cell_type": "code",
   "execution_count": 15,
   "id": "6f71d939",
   "metadata": {},
   "outputs": [],
   "source": [
    "RECOMMENDER_TEMPLATE = \"\"\"\n",
    "    \"The following is a conversation between a human and a AI Real Estate Agent\"\n",
    "    \"You understand the preferences of the user and return the best option among the available listings\"\n",
    "    \"If you don't know the answer related to house recommendation, say No matches are found in the available listings\"\n",
    "    \"For other types of questions, if they are contextual to real estate, you can answer\"\n",
    "    \"If the users ask off-topic questions out of real estate topic, say I don't know\"\n",
    "    \"Use three sentences maximum and keep the answer concise.\"\n",
    "    \n",
    "    Personal Questions and Answers:\n",
    "    {context}\n",
    "\n",
    "    Human: {query}\n",
    "    AI:\n",
    "    \"\"\""
   ]
  },
  {
   "cell_type": "markdown",
   "id": "160dd9be",
   "metadata": {},
   "source": [
    "### Recommender without memory"
   ]
  },
  {
   "cell_type": "code",
   "execution_count": 16,
   "id": "6f9178f9",
   "metadata": {},
   "outputs": [
    {
     "data": {
      "text/plain": [
       "'\\n    \"The following is a conversation between a human and a AI Real Estate Agent\"\\n    \"You understand the preferences of the user and return the best option among the available listings\"\\n    \"If you don\\'t know the answer related to house recommendation, say No matches are found in the available listings\"\\n    \"For other types of questions, if they are contextual to real estate, you can answer\"\\n    \"If the users ask off-topic questions out of real estate topic, say I don\\'t know\"\\n    \"Use three sentences maximum and keep the answer concise.\"\\n    \\n    Personal Questions and Answers:\\n    How big do you want your house to be?What are 3 most important things for you in choosing this property?\\nA comfortable three-bedroom house with a spacious kitchen and a cozy living room.\\nWhich amenities would you like?\\nA quiet neighborhood, good local schools, and convenient shopping options.\\nWhich transportation options are important to you?\\nA backyard for gardening, a two-car garage, and a modern, energy-efficient heating system.\\nHow urban do you want your neighborhood to be?\\nEasy access to a reliable bus line, proximity to a major highway, and bike-friendly roads.\\n\\n    Human: Find two apartments based on user preferences and after describing the listings giving all details, show the reason behind this suggestion\\n    AI:\\n    '"
      ]
     },
     "execution_count": 16,
     "metadata": {},
     "output_type": "execute_result"
    }
   ],
   "source": [
    "from langchain.chains import create_retrieval_chain\n",
    "from langchain.chains.combine_documents import create_stuff_documents_chain\n",
    "from langchain.prompts import PromptTemplate\n",
    "from langchain.chains import LLMChain, RetrievalQA\n",
    "\n",
    "# if questions are terminated starts the input (query) for the chain\n",
    "query = \"Find two apartments based on user preferences and after describing the listings giving all details, show the reason behind this suggestion\"\n",
    "\n",
    "# Prepare the formatted prompt\n",
    "formatted_prompt = RECOMMENDER_TEMPLATE.format(context=context, query=query)\n",
    "formatted_prompt"
   ]
  },
  {
   "cell_type": "markdown",
   "id": "2bb38c87",
   "metadata": {},
   "source": [
    "#### Not requiring external similarity search\n",
    "\n",
    "###### -RetrievalQA chain\n",
    "\n",
    "###### -Retrieval stuff documents chain"
   ]
  },
  {
   "cell_type": "code",
   "execution_count": 17,
   "id": "f9604205",
   "metadata": {},
   "outputs": [
    {
     "name": "stdout",
     "output_type": "stream",
     "text": [
      "\n",
      "\n",
      "\u001b[1m> Entering new RetrievalQA chain...\u001b[0m\n",
      "\n",
      "\u001b[1m> Finished chain.\u001b[0m\n",
      " Based on your preferences, I have found two apartments that may be suitable for you. The first is a charming 3-bedroom bungalow in Maple Grove with a spacious deck and private backyard, perfect for outdoor gatherings. The second is a cozy 3-bedroom home in Riverside Terrace with a fireplace and outdoor patio, ideal for a peaceful retreat by the river. Both listings offer the amenities you mentioned, such as a quiet neighborhood, good schools, and convenient shopping options. Additionally, they are both located in family-friendly communities with easy access to transportation options.\n"
     ]
    }
   ],
   "source": [
    "# 1st method\n",
    "chain = RetrievalQA.from_chain_type(llm = llm,\n",
    "                                    chain_type = \"stuff\", \n",
    "                                    retriever= db.as_retriever(search_kwargs={\"k\": 2}),\n",
    "                                                                verbose=True,\n",
    "                                                                )\n",
    "result = chain.invoke(formatted_prompt)[\"result\"]\n",
    "print(result)"
   ]
  },
  {
   "cell_type": "code",
   "execution_count": 18,
   "id": "a2799f16",
   "metadata": {},
   "outputs": [
    {
     "name": "stdout",
     "output_type": "stream",
     "text": [
      "\n",
      "\n",
      "\u001b[1m> Entering new RetrievalQA chain...\u001b[0m\n",
      "\n",
      "\u001b[1m> Finished chain.\u001b[0m\n",
      "\n",
      "\n",
      "Based on the user's preferences, I would suggest the first listing in Pineview Village. This charming 2-bedroom, 1-bathroom cottage offers a cozy and peaceful retreat in a quaint village setting. The outdoor space with a fire pit and detached studio adds to the appeal of this home, making it a perfect option for those seeking a home office or guest quarters. Additionally, the neighborhood of Pineview Village offers a relaxed and inviting atmosphere with its tree-lined streets, historic homes, and local boutiques.\n",
      "\n",
      "For those looking for a more serene and laid-back atmosphere, the second listing in Lakeview Heights would be a great option. This cozy 2-bedroom, 1-bathroom cottage offers panoramic views of the lake and a spacious deck overlooking the water. The open living area with a fireplace creates a warm and inviting atmosphere, perfect for relaxation or entertaining. The neighborhood of Lakeview Heights is known for its tranquil and laid-back atmosphere, with opportunities for water activities and access to hiking and biking trails. This makes it an ideal location for those seeking a peaceful getaway.\n"
     ]
    }
   ],
   "source": [
    "# 2nd method (requires BasePromptTemplate)\n",
    "\n",
    "from langchain.prompts import PromptTemplate\n",
    "from langchain.chains import create_history_aware_retriever\n",
    "\n",
    "# Define the updated prompt template using 'input' and 'context'\n",
    "\n",
    "    \n",
    "# Update prompt template\n",
    "prompt_template = PromptTemplate(\n",
    "    template=RECOMMENDER_TEMPLATE,\n",
    "    input_variables=[\"query\", \"context\"]\n",
    ")\n",
    "\n",
    "question_answer_chain = create_stuff_documents_chain(llm, prompt_template)\n",
    "rag_chain = create_retrieval_chain(\n",
    "                                    db.as_retriever(\n",
    "                                                    search_type = 'similarity_score_threshold',\n",
    "                                                    search_kwargs = {\n",
    "                                                                    \"k\": 2,\n",
    "                                                                    \"score_threshold\": 0.1\n",
    "                                                    },)\n",
    "                                   , question_answer_chain)\n",
    "\n",
    "result = chain.invoke({\"query\": query, \"context\": context})[\"result\"]\n",
    "print(result)"
   ]
  },
  {
   "cell_type": "markdown",
   "id": "af49a5cf",
   "metadata": {},
   "source": [
    "#### Requiring external similarity search\n",
    "\n",
    "###### -Load_qa_chain\n",
    "\n",
    "###### -LLMChain"
   ]
  },
  {
   "cell_type": "code",
   "execution_count": 19,
   "id": "aebad73c",
   "metadata": {},
   "outputs": [],
   "source": [
    "similar_docs = db.similarity_search(query, k=2)"
   ]
  },
  {
   "cell_type": "code",
   "execution_count": 20,
   "id": "20133542",
   "metadata": {},
   "outputs": [
    {
     "name": "stderr",
     "output_type": "stream",
     "text": [
      "/home/student/.local/lib/python3.10/site-packages/langchain_core/_api/deprecation.py:139: LangChainDeprecationWarning: The method `Chain.run` was deprecated in langchain 0.1.0 and will be removed in 0.3.0. Use invoke instead.\n",
      "  warn_deprecated(\n"
     ]
    },
    {
     "name": "stdout",
     "output_type": "stream",
     "text": [
      "\n",
      "\n",
      "Based on the user's preferences for a peaceful and charming neighborhood, the two suggested listings are in Pineview Village and Lakeview Heights. Both neighborhoods offer a serene and inviting atmosphere, perfect for those seeking a retreat from city life.\n",
      "\n",
      "The first listing in Pineview Village is a charming cottage with a cozy living room, private patio, and landscaped yard. The neighborhood is known for its tree-lined streets, historic homes, and local boutiques, creating a quaint and picturesque setting. The detached studio in the backyard also offers the potential for a home office or guest quarters, adding to the appeal for those looking for a peaceful and versatile living space.\n",
      "\n",
      "The second listing in Lakeview Heights offers panoramic views of the lake and a spacious deck overlooking the water. The open living area with a fireplace creates a warm and inviting atmosphere, perfect for relaxation or entertaining. The neighborhood is known for its tranquil and laid-back atmosphere, with opportunities for water activities and outdoor recreation. This listing would be ideal for someone looking for a peaceful lakeside retreat.\n",
      "\n",
      "Overall, both listings align with the user's preferences for a peaceful and charming neighborhood, offering a serene and inviting atmosphere with opportunities for relaxation and outdoor activities. \n"
     ]
    }
   ],
   "source": [
    "from langchain.chains.question_answering import load_qa_chain\n",
    "# 3rd method\n",
    "prompt = PromptTemplate(template=\"{context}\\n Context: {query}\", \n",
    "                        input_variables = [\"query\", \"context\"]\n",
    "                       )\n",
    "chain = load_qa_chain(llm = llm, \n",
    "                      prompt = prompt, \n",
    "                      chain_type=\"stuff\")\n",
    "print(chain.run(input_documents = similar_docs, query=query))"
   ]
  },
  {
   "cell_type": "code",
   "execution_count": 21,
   "id": "99caacfe",
   "metadata": {},
   "outputs": [
    {
     "name": "stderr",
     "output_type": "stream",
     "text": [
      "/home/student/.local/lib/python3.10/site-packages/langchain_core/_api/deprecation.py:139: LangChainDeprecationWarning: The class `LLMChain` was deprecated in LangChain 0.1.17 and will be removed in 1.0. Use RunnableSequence, e.g., `prompt | llm` instead.\n",
      "  warn_deprecated(\n"
     ]
    },
    {
     "name": "stdout",
     "output_type": "stream",
     "text": [
      "\n",
      "\n",
      "\n",
      "Based on your preferences, we have found two apartments that we believe would be a perfect fit for you. The first option is a charming 2-bedroom cottage located in Pineview Village. Priced at $600,000, this home offers a cozy living room with a stone fireplace, hardwood floors, and French doors leading to a private patio. The kitchen features quartz countertops, stainless steel appliances, and a breakfast nook overlooking the landscaped yard. The outdoor space includes a fire pit, garden beds, and a detached studio, perfect for a home office or guest quarters. This home is a peaceful oasis for those seeking a retreat in a quaint village setting.\n",
      "\n",
      "The second option is a cozy 2-bedroom cottage in Lakeview Heights, priced at $650,000. This home offers panoramic views of the lake and a spacious deck overlooking the water, perfect for morning coffee or evening sunsets. The open living area with a fireplace creates a warm and inviting atmosphere, ideal for relaxation or entertaining. With its serene setting and lake access, this home is a peaceful retreat from city life.\n",
      "\n",
      "The reason we suggest these two options is because they both offer a peaceful and serene atmosphere, perfect for those seeking a retreat from the hustle and bustle of city life. Both neighborhoods\n"
     ]
    }
   ],
   "source": [
    "# 4th method\n",
    "chain = LLMChain(llm = llm, \n",
    "                 prompt = prompt)\n",
    "result = chain.invoke(\n",
    "            {\"context\": similar_docs, \n",
    "              \"query\": query},\n",
    "            )[\"text\"]\n",
    "print(result)"
   ]
  },
  {
   "cell_type": "markdown",
   "id": "52c94983",
   "metadata": {},
   "source": [
    "### Create contextual memory from user preferences starting from Agent questions"
   ]
  },
  {
   "cell_type": "code",
   "execution_count": 22,
   "id": "67eb8187",
   "metadata": {},
   "outputs": [],
   "source": [
    "from langchain.memory import ConversationBufferMemory, ChatMessageHistory\n",
    "from typing import Dict, Any\n",
    "    \n",
    "history = ChatMessageHistory()\n",
    "    \n",
    "for i in range(len(questions)):\n",
    "    history.add_ai_message(questions[i])\n",
    "    history.add_user_message(answers[i])\n",
    "    \n",
    "# memory.save_context(history)"
   ]
  },
  {
   "cell_type": "code",
   "execution_count": 23,
   "id": "c5f72667",
   "metadata": {},
   "outputs": [],
   "source": [
    "#class MementoBufferMemory(ConversationBufferMemory):\n",
    "#    def save_context(self, inputs: Dict[str, Any], outputs: Dict[str, str]) -> None:\n",
    "#        input_str, output_str = self._get_input_output(inputs, outputs)\n",
    "#        self.chat_memory.add_ai_message(output_str)\n",
    "    \n",
    "#conversational_memory = MementoBufferMemory(\n",
    "#                                            chat_memory=history,\n",
    "#                                            memory_key = \"questions_and_answers\",\n",
    "#                                            input_key=\"query\")"
   ]
  },
  {
   "cell_type": "markdown",
   "id": "df2d7710",
   "metadata": {},
   "source": [
    "### Create template"
   ]
  },
  {
   "cell_type": "code",
   "execution_count": 24,
   "id": "23ec1c23",
   "metadata": {},
   "outputs": [
    {
     "data": {
      "text/plain": [
       "[AIMessage(content='How big do you want your house to be?What are 3 most important things for you in choosing this property?'),\n",
       " HumanMessage(content='A comfortable three-bedroom house with a spacious kitchen and a cozy living room.'),\n",
       " AIMessage(content='Which amenities would you like?'),\n",
       " HumanMessage(content='A quiet neighborhood, good local schools, and convenient shopping options.'),\n",
       " AIMessage(content='Which transportation options are important to you?'),\n",
       " HumanMessage(content='A backyard for gardening, a two-car garage, and a modern, energy-efficient heating system.'),\n",
       " AIMessage(content='How urban do you want your neighborhood to be?'),\n",
       " HumanMessage(content='Easy access to a reliable bus line, proximity to a major highway, and bike-friendly roads.')]"
      ]
     },
     "execution_count": 24,
     "metadata": {},
     "output_type": "execute_result"
    }
   ],
   "source": [
    "# Analyze history structure\n",
    "history.messages"
   ]
  },
  {
   "cell_type": "code",
   "execution_count": 25,
   "id": "49d46985",
   "metadata": {},
   "outputs": [],
   "source": [
    "from langchain_core.messages import HumanMessage, AIMessage, SystemMessage\n",
    "# Parse it\n",
    "def parse_messages(messages):\n",
    "    parsed_content = []\n",
    "    for message in messages:\n",
    "        if isinstance(message, HumanMessage):\n",
    "            parsed_content.append(f\"Human: {message.content}\")\n",
    "        elif isinstance(message, AIMessage):\n",
    "            parsed_content.append(f\"AI: {message.content}\")\n",
    "    return parsed_content\n",
    "\n",
    "formatted_messages = parse_messages(history.messages)"
   ]
  },
  {
   "cell_type": "code",
   "execution_count": 26,
   "id": "45a6cc33",
   "metadata": {},
   "outputs": [],
   "source": [
    "from langchain.prompts import PromptTemplate\n",
    "from langchain.chains import create_history_aware_retriever\n",
    "\n",
    "# Define the updated prompt template using 'input' and 'context'\n",
    "RECOMMENDER_TEMPLATE = \"\"\"\n",
    "    \"The following is a conversation between a human and a AI Real Estate Agent\"\n",
    "    \"You understand the preferences of the user and return the best option among the available listings\"\n",
    "    \"If you don't know the answer related to house recommendation, say No matches are found in the available listings\"\n",
    "    \"For other types of questions, if they are contextual to real estate, you can answer\"\n",
    "    \"If the users ask off-topic questions out of real estate topic, say I don't know\"\n",
    "    \"Use three sentences maximum and keep the answer concise.\"\n",
    "    \n",
    "    Personal Questions and Answers:\n",
    "    {context}\n",
    "\n",
    "    Human: {input}\n",
    "    AI:\n",
    "    \"\"\"\n",
    "    \n",
    "# Update prompt template\n",
    "prompt_template = PromptTemplate(\n",
    "    template=RECOMMENDER_TEMPLATE,\n",
    "    input_variables=[\"input\", \"context\"]\n",
    ")\n",
    "\n",
    "def recommended_listings(query, formatted_messages):\n",
    "    \"\"\"The function returns two listings among available listings that are best suited for the user\"\"\"\n",
    "    \n",
    "    # Format messages into a single string to match 'context' variable\n",
    "    formatted_messages_str = \"\\n\".join(formatted_messages)\n",
    "    \n",
    "    # Istantiate retriever\n",
    "    retriever = db.as_retriever(\n",
    "                            search_type = 'similarity_score_threshold',\n",
    "                            search_kwargs = {\n",
    "                                            \"k\": 2,\n",
    "                                            \"score_threshold\": 0.1\n",
    "                            },\n",
    "                           )\n",
    "    \n",
    "    # Create the history-aware retriever\n",
    "    history_aware_retriever = create_history_aware_retriever(\n",
    "        llm, retriever, prompt_template\n",
    "    )\n",
    "    \n",
    "    # Create chain for question answering\n",
    "    question_answer_chain = create_stuff_documents_chain(llm, prompt_template)\n",
    "    rag_chain = create_retrieval_chain(history_aware_retriever, question_answer_chain)\n",
    "    \n",
    "    # Prepare input dictionary for the chain\n",
    "    input_data = {\n",
    "        \"input\": query,\n",
    "        \"context\": formatted_messages_str\n",
    "    }\n",
    "    \n",
    "    # Invoke the chain with the provided query and formatted messages\n",
    "    return rag_chain.invoke(input_data)\n",
    "\n",
    "# Prepare formatted messages and query\n",
    "formatted_messages = parse_messages(history.messages)\n",
    "query = \"Find two apartments based on user preferences and motivate each answer\"\n",
    "\n",
    "# Get recommendations\n",
    "recommendations = recommended_listings(query, formatted_messages)"
   ]
  },
  {
   "cell_type": "code",
   "execution_count": 27,
   "id": "911ffa11",
   "metadata": {},
   "outputs": [
    {
     "name": "stdout",
     "output_type": "stream",
     "text": [
      "\n",
      "1. \"Based on your preferences, I have found a charming 2-bedroom cottage in Pineview Village for $600,000. This cozy home features a stone fireplace, hardwood floors, and a private patio, perfect for enjoying the peaceful atmosphere of the village. With its quaint community and local boutiques, Pineview Village offers a unique and inviting lifestyle for residents.\"\n",
      "\n",
      "2. \"I have also found a beautiful 2-bedroom cottage in Lakeview Heights for $650,000. This home boasts panoramic views of the lake and a spacious deck, perfect for enjoying the serene surroundings. With its access to water activities and hiking trails, Lakeview Heights offers a tranquil and laid-back lifestyle for those seeking a peaceful retreat from city life.\"\n",
      "\n",
      "Here the details:\n",
      "\n",
      "Neighborhood: Pineview Village\n",
      "Price: $600,000\n",
      "Bedrooms: 2\n",
      "Bathrooms: 1\n",
      "House Size: 1,500 sqft\n",
      "\n",
      "Description: Step into this charming 2-bedroom, 1-bathroom cottage in Pineview Village. The cozy living room features a stone fireplace, hardwood floors, and French doors leading to a private patio. The kitchen offers quartz countertops, stainless steel appliances, and a breakfast nook overlooking the landscaped yard. The outdoor space includes a fire pit, garden beds, and a detached studio, perfect for a home office or guest quarters. This home is a peaceful oasis for those seeking a retreat in a quaint village setting.\n",
      "\n",
      "Neighborhood Description: Pineview Village is a picturesque community known for its tree-lined streets, historic homes, and local boutiques. Residents can enjoy strolling through the village square, visiting the farmers market, or dining at the charming cafes and restaurants. With its small-town charm and close-knit community, Pineview Village offers a relaxed and inviting atmosphere for residents of all ages. \n",
      "\n",
      "Neighborhood: Lakeview Heights\n",
      "Price: $650,000\n",
      "Bedrooms: 2\n",
      "Bathrooms: 1\n",
      "House Size: 1,200 sqft\n",
      "\n",
      "Description: Enjoy panoramic views of the lake from this cozy 2-bedroom, 1-bathroom cottage in Lakeview Heights. This charming home features a spacious deck overlooking the water, perfect for morning coffee or evening sunsets. The open living area with a fireplace creates a warm and inviting atmosphere, ideal for relaxation or entertaining. With its serene setting and lake access, this home is a peaceful retreat from city life.\n",
      "\n",
      "Neighborhood Description: Lakeview Heights is a picturesque lakeside community known for its tranquil and laid-back atmosphere. Residents can enjoy water activities such as boating and fishing, as well as hiking and biking trails in the surrounding natural areas. Local restaurants and cafes offer a taste of lakeside living, making it a desirable location for those seeking a peaceful getaway.\n",
      "\n",
      "\n"
     ]
    }
   ],
   "source": [
    "details = []\n",
    "for k in range(len(recommendations['context'])):\n",
    "    details.append(recommendations['context'][k].page_content)\n",
    "details = ''.join(details)\n",
    "print(recommendations['answer'] + \"\\n\\nHere the details:\\n\" + details)"
   ]
  }
 ],
 "metadata": {
  "kernelspec": {
   "display_name": "Python 3 (ipykernel)",
   "language": "python",
   "name": "python3"
  },
  "language_info": {
   "codemirror_mode": {
    "name": "ipython",
    "version": 3
   },
   "file_extension": ".py",
   "mimetype": "text/x-python",
   "name": "python",
   "nbconvert_exporter": "python",
   "pygments_lexer": "ipython3",
   "version": "3.10.11"
  }
 },
 "nbformat": 4,
 "nbformat_minor": 5
}
